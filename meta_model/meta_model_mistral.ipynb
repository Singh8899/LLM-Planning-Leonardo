{
  "cells": [
    {
      "cell_type": "code",
      "execution_count": 73,
      "metadata": {
        "id": "6iS6LR9z-pjV"
      },
      "outputs": [],
      "source": [
        "import pandas as pd\n",
        "import torch\n",
        "import warnings\n",
        "warnings.filterwarnings(\"ignore\")\n",
        "from transformers import logging\n",
        "logging.set_verbosity_error()\n"
      ]
    },
    {
      "cell_type": "code",
      "execution_count": 74,
      "metadata": {
        "id": "XYJ8-iW0QfPF"
      },
      "outputs": [],
      "source": [
        "llm = \"mistral\""
      ]
    },
    {
      "cell_type": "markdown",
      "metadata": {
        "id": "1eIrB8l3RLZ1"
      },
      "source": [
        "# 1st Meta Network using just last generation informations"
      ]
    },
    {
      "cell_type": "code",
      "execution_count": 76,
      "metadata": {
        "id": "Dr1rQo_6HwMB"
      },
      "outputs": [],
      "source": [
        "import pandas as pd\n",
        "import numpy as np\n",
        "import torch\n",
        "from torch.utils.data import Dataset, DataLoader\n",
        "from sklearn.model_selection import train_test_split\n",
        "from sklearn.preprocessing import StandardScaler\n",
        "\n",
        "# 1. Load the dataset\n",
        "df = pd.read_csv(f\"/content/blocksworld_generations_dataset_{llm}.csv\")\n",
        "\n",
        "# 2. Solves_problem already binary (0/1), no need to map if it's consistent\n",
        "# Ensure it's float\n",
        "df[\"solves_problem\"] = df[\"solves_problem\"].astype(float)\n",
        "\n",
        "# 3. Function to extract last attempt features based on num_attempts\n",
        "def extract_last_attempt(row):\n",
        "    n = int(row[\"num_attempts\"])\n",
        "    return pd.Series({\n",
        "        \"valid_action_percent\": row[f\"gen{n}_valid_action_percent\"],\n",
        "        \"consecutive_valid_steps\": row[f\"gen{n}_consecutive_valid_steps\"],\n",
        "        \"logical_violations\": row[f\"gen{n}_logical_violations\"],\n",
        "        \"plan_len\": row[\"plan_len\"],  # already refers to final plan length\n",
        "        \"solves_problem\": row[\"solves_problem\"]\n",
        "    })\n",
        "\n",
        "# Apply extraction row-wise\n",
        "df_last = df.apply(extract_last_attempt, axis=1)\n",
        "\n",
        "# Drop rows with missing values\n",
        "df_last = df_last.dropna()\n",
        "\n",
        "# Features and target\n",
        "features = [\"valid_action_percent\", \"consecutive_valid_steps\", \"logical_violations\", \"plan_len\"]\n",
        "target = \"solves_problem\"\n",
        "\n",
        "X = df_last[features].astype(\"float32\").values\n",
        "y = df_last[target].astype(\"float32\").values.reshape(-1, 1)\n",
        "\n",
        "# Train/val/test split\n",
        "X_train, X_temp, y_train, y_temp = train_test_split(\n",
        "    X, y, test_size=0.3, random_state=42\n",
        ")\n",
        "X_val, X_test, y_val, y_test = train_test_split(\n",
        "    X_temp, y_temp, test_size=0.5, random_state=42\n",
        ")\n",
        "\n",
        "# Standardize features\n",
        "scaler = StandardScaler()\n",
        "X_train = scaler.fit_transform(X_train).astype(\"float32\")\n",
        "X_val = scaler.transform(X_val).astype(\"float32\")\n",
        "X_test = scaler.transform(X_test).astype(\"float32\")\n",
        "\n",
        "# Custom dataset\n",
        "class PlanningMetaDataset(Dataset):\n",
        "    def __init__(self, X, y):\n",
        "        self.X = torch.tensor(X, dtype=torch.float32)\n",
        "        self.y = torch.tensor(y, dtype=torch.float32)\n",
        "\n",
        "    def __len__(self):\n",
        "        return len(self.X)\n",
        "\n",
        "    def __getitem__(self, idx):\n",
        "        return self.X[idx], self.y[idx]\n",
        "\n",
        "# Datasets and loaders\n",
        "train_dataset = PlanningMetaDataset(X_train, y_train)\n",
        "val_dataset = PlanningMetaDataset(X_val, y_val)\n",
        "test_dataset = PlanningMetaDataset(X_test, y_test)\n",
        "\n",
        "train_loader = DataLoader(train_dataset, batch_size=32, shuffle=True)\n",
        "val_loader = DataLoader(val_dataset, batch_size=32)\n",
        "test_loader = DataLoader(test_dataset, batch_size=32)\n"
      ]
    },
    {
      "cell_type": "code",
      "execution_count": 77,
      "metadata": {
        "id": "Lwl8P-y4FSLe"
      },
      "outputs": [],
      "source": [
        "import torch.nn as nn\n",
        "\n",
        "class MetaConfidenceNet(nn.Module):\n",
        "    def __init__(self, input_dim):\n",
        "        super(MetaConfidenceNet, self).__init__()\n",
        "        self.model = nn.Sequential(\n",
        "            nn.Linear(input_dim, 64),\n",
        "            nn.ReLU(),\n",
        "            nn.BatchNorm1d(64),\n",
        "            nn.Dropout(0.2),\n",
        "            nn.Linear(64, 32),\n",
        "            nn.ReLU(),\n",
        "            nn.Linear(32, 1)  # logit output\n",
        "        )\n",
        "\n",
        "    def forward(self, x):\n",
        "        return self.model(x)\n"
      ]
    },
    {
      "cell_type": "code",
      "execution_count": 78,
      "metadata": {
        "id": "gU0JbeM3FTvZ"
      },
      "outputs": [],
      "source": [
        "class EarlyStopping:\n",
        "    def __init__(self, patience=10, min_delta=0.001):\n",
        "        self.patience = patience\n",
        "        self.min_delta = min_delta\n",
        "        self.counter = 0\n",
        "        self.best_loss = float('inf')\n",
        "        self.early_stop = False\n",
        "\n",
        "    def __call__(self, val_loss):\n",
        "        if val_loss < self.best_loss - self.min_delta:\n",
        "            self.best_loss = val_loss\n",
        "            self.counter = 0\n",
        "        else:\n",
        "            self.counter += 1\n",
        "            if self.counter >= self.patience:\n",
        "                self.early_stop = True\n"
      ]
    },
    {
      "cell_type": "code",
      "execution_count": 79,
      "metadata": {
        "colab": {
          "base_uri": "https://localhost:8080/"
        },
        "id": "eHWd5YMlFVxm",
        "outputId": "9733ddb0-08ef-42ea-b853-9e45b2e5416f"
      },
      "outputs": [
        {
          "output_type": "stream",
          "name": "stdout",
          "text": [
            "Epoch 1/50 | Train Loss: 0.7327 | Val Loss: 0.7305 | Val Acc: 0.1905\n",
            "Epoch 2/50 | Train Loss: 0.6995 | Val Loss: 0.7102 | Val Acc: 0.2381\n",
            "Epoch 3/50 | Train Loss: 0.6558 | Val Loss: 0.6829 | Val Acc: 0.2857\n",
            "Epoch 4/50 | Train Loss: 0.6139 | Val Loss: 0.6477 | Val Acc: 0.7619\n",
            "Epoch 5/50 | Train Loss: 0.5755 | Val Loss: 0.6036 | Val Acc: 0.8571\n",
            "Epoch 6/50 | Train Loss: 0.5387 | Val Loss: 0.5571 | Val Acc: 0.8571\n",
            "Epoch 7/50 | Train Loss: 0.5064 | Val Loss: 0.5103 | Val Acc: 0.9524\n",
            "Epoch 8/50 | Train Loss: 0.4579 | Val Loss: 0.4658 | Val Acc: 1.0000\n",
            "Epoch 9/50 | Train Loss: 0.4193 | Val Loss: 0.4194 | Val Acc: 1.0000\n",
            "Epoch 10/50 | Train Loss: 0.3976 | Val Loss: 0.3596 | Val Acc: 1.0000\n",
            "Epoch 11/50 | Train Loss: 0.3813 | Val Loss: 0.3087 | Val Acc: 0.9524\n",
            "Epoch 12/50 | Train Loss: 0.3257 | Val Loss: 0.2895 | Val Acc: 0.9524\n",
            "Epoch 13/50 | Train Loss: 0.3137 | Val Loss: 0.2690 | Val Acc: 0.9524\n",
            "Epoch 14/50 | Train Loss: 0.2745 | Val Loss: 0.2480 | Val Acc: 0.9524\n",
            "Epoch 15/50 | Train Loss: 0.2594 | Val Loss: 0.2235 | Val Acc: 0.9524\n",
            "Epoch 16/50 | Train Loss: 0.2278 | Val Loss: 0.2066 | Val Acc: 0.9524\n",
            "Epoch 17/50 | Train Loss: 0.2052 | Val Loss: 0.1988 | Val Acc: 0.9524\n",
            "Epoch 18/50 | Train Loss: 0.1998 | Val Loss: 0.1804 | Val Acc: 0.9524\n",
            "Epoch 19/50 | Train Loss: 0.1552 | Val Loss: 0.1810 | Val Acc: 0.9524\n",
            "Epoch 20/50 | Train Loss: 0.1626 | Val Loss: 0.1678 | Val Acc: 0.9524\n",
            "Epoch 21/50 | Train Loss: 0.1577 | Val Loss: 0.1534 | Val Acc: 0.9524\n",
            "Epoch 22/50 | Train Loss: 0.1253 | Val Loss: 0.1361 | Val Acc: 0.9524\n",
            "Epoch 23/50 | Train Loss: 0.1238 | Val Loss: 0.1283 | Val Acc: 0.9524\n",
            "Epoch 24/50 | Train Loss: 0.1155 | Val Loss: 0.1289 | Val Acc: 0.9524\n",
            "Epoch 25/50 | Train Loss: 0.0921 | Val Loss: 0.1270 | Val Acc: 0.9524\n",
            "Epoch 26/50 | Train Loss: 0.0868 | Val Loss: 0.1242 | Val Acc: 0.9524\n",
            "Epoch 27/50 | Train Loss: 0.0936 | Val Loss: 0.1171 | Val Acc: 0.9524\n",
            "Epoch 28/50 | Train Loss: 0.0821 | Val Loss: 0.1077 | Val Acc: 0.9524\n",
            "Epoch 29/50 | Train Loss: 0.0827 | Val Loss: 0.0706 | Val Acc: 0.9524\n",
            "Epoch 30/50 | Train Loss: 0.0582 | Val Loss: 0.0785 | Val Acc: 0.9524\n",
            "Epoch 31/50 | Train Loss: 0.0713 | Val Loss: 0.0804 | Val Acc: 0.9524\n",
            "Epoch 32/50 | Train Loss: 0.0713 | Val Loss: 0.0886 | Val Acc: 0.9524\n",
            "Epoch 33/50 | Train Loss: 0.0554 | Val Loss: 0.0906 | Val Acc: 0.9524\n",
            "Epoch 34/50 | Train Loss: 0.0647 | Val Loss: 0.0865 | Val Acc: 0.9524\n",
            "Epoch 35/50 | Train Loss: 0.0694 | Val Loss: 0.0852 | Val Acc: 0.9524\n",
            "Epoch 36/50 | Train Loss: 0.0523 | Val Loss: 0.0902 | Val Acc: 0.9524\n",
            "Epoch 37/50 | Train Loss: 0.0539 | Val Loss: 0.0857 | Val Acc: 0.9524\n",
            "Early stopping triggered.\n"
          ]
        }
      ],
      "source": [
        "import torch.optim as optim\n",
        "\n",
        "device = torch.device(\"cuda\" if torch.cuda.is_available() else \"cpu\")\n",
        "model = MetaConfidenceNet(input_dim=X.shape[1]).to(device)\n",
        "criterion = nn.BCEWithLogitsLoss()\n",
        "optimizer = optim.Adam(model.parameters(), lr=1e-3)\n",
        "early_stopping = EarlyStopping(patience=8)\n",
        "\n",
        "def evaluate(loader):\n",
        "    model.eval()\n",
        "    total_loss = 0\n",
        "    correct = 0\n",
        "    total = 0\n",
        "    with torch.no_grad():\n",
        "        for X_batch, y_batch in loader:\n",
        "            X_batch = X_batch.to(device)\n",
        "            y_batch = y_batch.to(device)\n",
        "            outputs = model(X_batch)\n",
        "            loss = criterion(outputs, y_batch)\n",
        "            total_loss += loss.item() * y_batch.size(0)\n",
        "\n",
        "            preds = (torch.sigmoid(outputs) > 0.5).float()\n",
        "            correct += (preds == y_batch).sum().item()\n",
        "            total += y_batch.size(0)\n",
        "\n",
        "    return total_loss / total, correct / total\n",
        "\n",
        "# Train\n",
        "n_epochs = 50\n",
        "for epoch in range(n_epochs):\n",
        "    model.train()\n",
        "    running_loss = 0\n",
        "    for X_batch, y_batch in train_loader:\n",
        "        X_batch = X_batch.to(device)\n",
        "        y_batch = y_batch.to(device)\n",
        "        optimizer.zero_grad()\n",
        "        outputs = model(X_batch)\n",
        "        loss = criterion(outputs, y_batch)\n",
        "        loss.backward()\n",
        "        optimizer.step()\n",
        "        running_loss += loss.item() * y_batch.size(0)\n",
        "\n",
        "    train_loss = running_loss / len(train_loader.dataset)\n",
        "    val_loss, val_acc = evaluate(val_loader)\n",
        "\n",
        "    print(f\"Epoch {epoch+1}/{n_epochs} | Train Loss: {train_loss:.4f} | Val Loss: {val_loss:.4f} | Val Acc: {val_acc:.4f}\")\n",
        "\n",
        "    early_stopping(val_loss)\n",
        "    if early_stopping.early_stop:\n",
        "        print(\"Early stopping triggered.\")\n",
        "        break\n"
      ]
    },
    {
      "cell_type": "code",
      "execution_count": 80,
      "metadata": {
        "colab": {
          "base_uri": "https://localhost:8080/"
        },
        "id": "aHcbQE0GFany",
        "outputId": "97f212f8-f829-42f6-e562-59473df0c1cd"
      },
      "outputs": [
        {
          "output_type": "stream",
          "name": "stdout",
          "text": [
            "\n",
            "Test Loss: 0.0286 | Test Accuracy: 1.0000\n"
          ]
        }
      ],
      "source": [
        "test_loss, test_acc = evaluate(test_loader)\n",
        "print(f\"\\nTest Loss: {test_loss:.4f} | Test Accuracy: {test_acc:.4f}\")\n"
      ]
    },
    {
      "cell_type": "code",
      "execution_count": 81,
      "metadata": {
        "id": "ZN0sXmzyPoBq"
      },
      "outputs": [],
      "source": [
        "import pandas as pd\n",
        "import numpy as np\n",
        "import torch\n",
        "from torch.utils.data import Dataset, DataLoader\n",
        "\n",
        "# --- 1. Load test CSV ---\n",
        "df = pd.read_csv(\"/content/all_generations_problem.csv\")\n",
        "#df = df[df[\"folder\"] == \"basic_move\"]\n",
        "# --- 2. Use exact same features as training ---\n",
        "features = [\n",
        "    'valid_action_percent',\n",
        "    'consecutive_valid_steps',\n",
        "    'logical_violations',\n",
        "    'plan_len'\n",
        "]\n",
        "target = 'solves_problem'\n",
        "\n",
        "# --- 3. Drop rows with NaNs ---\n",
        "df = df.dropna(subset=features + [target])\n",
        "\n",
        "# --- 4. Convert target to float ---\n",
        "df['solves_problem'] = df['solves_problem'].replace({False: 0.0, True: 1.0})\n",
        "\n",
        "# --- 5. Extract and scale ---\n",
        "X_test = df[features].astype('float32').values\n",
        "y_test = df[target].astype('float32').values.reshape(-1, 1)\n",
        "\n",
        "# --- 6. Use pre-fitted scaler ---\n",
        "X_test = scaler.transform(X_test)\n",
        "\n",
        "# --- 7. PyTorch Dataset & DataLoader ---\n",
        "class PlanningMetaDataset(Dataset):\n",
        "    def __init__(self, X, y):\n",
        "        self.X = torch.tensor(X, dtype=torch.float32)\n",
        "        self.y = torch.tensor(y, dtype=torch.float32)\n",
        "    def __len__(self):\n",
        "        return len(self.X)\n",
        "    def __getitem__(self, idx):\n",
        "        return self.X[idx], self.y[idx]\n",
        "\n",
        "test_dataset = PlanningMetaDataset(X_test, y_test)\n",
        "test_loader = DataLoader(test_dataset, batch_size=32, shuffle=False)\n"
      ]
    },
    {
      "cell_type": "code",
      "execution_count": 82,
      "metadata": {
        "colab": {
          "base_uri": "https://localhost:8080/"
        },
        "id": "ocBE2fzwdpRt",
        "outputId": "82d690bd-e100-4b9a-c095-1e57ad666ca4"
      },
      "outputs": [
        {
          "output_type": "stream",
          "name": "stdout",
          "text": [
            "\n",
            "Test Loss VALIDATION: 0.5349 | Test Accuracy: 0.5306\n"
          ]
        }
      ],
      "source": [
        "test_loss, test_acc = evaluate(test_loader)\n",
        "print(f\"\\nTest Loss VALIDATION: {test_loss:.4f} | Test Accuracy: {test_acc:.4f}\")\n"
      ]
    },
    {
      "cell_type": "code",
      "execution_count": 83,
      "metadata": {
        "colab": {
          "base_uri": "https://localhost:8080/"
        },
        "id": "g5Bos2euSGr9",
        "outputId": "07923687-fe22-4f51-b32f-d7596f6c0b21"
      },
      "outputs": [
        {
          "output_type": "stream",
          "name": "stdout",
          "text": [
            "Confidence score for easy basic move problem is 0.68\n"
          ]
        }
      ],
      "source": [
        "with torch.no_grad():\n",
        "  model.eval()\n",
        "  easy_problem = test_dataset[0][0].unsqueeze(0).to(device)\n",
        "  model = model.to(device)\n",
        "  score = torch.sigmoid(model(easy_problem))\n",
        "  print(f\"Confidence score for easy basic move problem is {score.item():.2f}\")"
      ]
    },
    {
      "cell_type": "code",
      "execution_count": 84,
      "metadata": {
        "colab": {
          "base_uri": "https://localhost:8080/"
        },
        "id": "DzP16fUYTAc8",
        "outputId": "56ffa045-1ef3-4e5c-f235-8c6496423713"
      },
      "outputs": [
        {
          "output_type": "stream",
          "name": "stdout",
          "text": [
            "Confidence score for hard hanoi problem is 0.03\n"
          ]
        }
      ],
      "source": [
        "with torch.no_grad():\n",
        "  model.eval()\n",
        "  hard_problem = test_dataset[33][0].unsqueeze(0).to(device)\n",
        "  model = model.to(device)\n",
        "  score = torch.sigmoid(model(hard_problem))\n",
        "  print(f\"Confidence score for hard hanoi problem is {score.item():.2f}\")"
      ]
    },
    {
      "cell_type": "markdown",
      "metadata": {
        "id": "-tL2-LdxVpmB"
      },
      "source": [
        "# Now let' s do BERTA WITH EXTRA FEWTURES Meta Network"
      ]
    },
    {
      "cell_type": "code",
      "execution_count": 86,
      "metadata": {
        "id": "lDRTViZUpK2h"
      },
      "outputs": [],
      "source": [
        "import pandas as pd\n",
        "import torch\n",
        "import numpy as np\n",
        "from torch.utils.data import DataLoader, Dataset\n",
        "from transformers import BertTokenizer, BertModel\n",
        "from sklearn.model_selection import train_test_split\n",
        "import torch.nn as nn\n",
        "import torch.nn.functional as F\n",
        "from tqdm import tqdm\n",
        "\n",
        "\n",
        "\n",
        "# Label encoding\n",
        "df['solves_problem'] = df['solves_problem'].replace({False: 0.0, True: 1.0})\n",
        "df = df.drop_duplicates(subset='problem')\n",
        "\n",
        "# Features\n",
        "extra_features = ['valid_action_percent', 'consecutive_valid_steps', 'logical_violations', 'plan_len']\n",
        "df = df.dropna(subset=['problem', 'num_attempts'] + extra_features + ['solves_problem'])\n",
        "\n",
        "# Train/Val/Test split\n",
        "train_df, temp_df = train_test_split(df, test_size=0.3, random_state=42, )\n",
        "val_df, test_df = train_test_split(temp_df, test_size=0.5, random_state=42,)\n",
        "\n",
        "tokenizer = BertTokenizer.from_pretrained(\"bert-base-uncased\")\n"
      ]
    },
    {
      "cell_type": "code",
      "execution_count": 87,
      "metadata": {
        "id": "PZKfgBJV1yJa"
      },
      "outputs": [],
      "source": [
        "class BertPlanningDataset(Dataset):\n",
        "    def __init__(self, df, extra_features, tokenizer, max_length=512):\n",
        "        self.df = df.reset_index(drop=True)\n",
        "        self.extra_features = extra_features\n",
        "        self.tokenizer = tokenizer\n",
        "        self.max_length = max_length\n",
        "\n",
        "        self.labels = torch.tensor(df['solves_problem'].values, dtype=torch.float32)\n",
        "        self.extra_feats = torch.tensor(df[extra_features].values, dtype=torch.float32)\n",
        "\n",
        "    def __len__(self):\n",
        "        return len(self.df)\n",
        "\n",
        "    def __getitem__(self, idx):\n",
        "        row = self.df.loc[idx]\n",
        "        gen_col = f'gen_{int(row[\"num_attempts\"])}'\n",
        "        problem = row['problem']\n",
        "        generated = row.get(gen_col, \"\")\n",
        "\n",
        "        encoding = self.tokenizer(\n",
        "            problem,\n",
        "            generated,\n",
        "            padding='max_length',\n",
        "            truncation='only_second',\n",
        "            max_length=self.max_length,\n",
        "            return_tensors='pt'\n",
        "        )\n",
        "        item = {k: v.squeeze(0) for k, v in encoding.items()}\n",
        "        item['extra_feats'] = self.extra_feats[idx]\n",
        "        item['labels'] = self.labels[idx]\n",
        "        return item\n"
      ]
    },
    {
      "cell_type": "code",
      "execution_count": 88,
      "metadata": {
        "id": "SizZvqASscU9"
      },
      "outputs": [],
      "source": [
        "class BertWithExtraFeatures(nn.Module):\n",
        "    def __init__(self, bert_model_name='bert-base-uncased', extra_feat_dim=4, dropout=0.3):\n",
        "        super().__init__()\n",
        "        self.bert = BertModel.from_pretrained(bert_model_name)\n",
        "        self.dropout = nn.Dropout(dropout)\n",
        "        self.classifier = nn.Sequential(\n",
        "            nn.Linear(self.bert.config.hidden_size + extra_feat_dim, 128),\n",
        "            nn.ReLU(),\n",
        "            nn.Dropout(dropout),\n",
        "            nn.Linear(128, 1),\n",
        "            nn.Sigmoid()\n",
        "        )\n",
        "\n",
        "    def forward(self, input_ids, attention_mask, token_type_ids, extra_feats):\n",
        "        outputs = self.bert(input_ids=input_ids, attention_mask=attention_mask, token_type_ids=token_type_ids)\n",
        "        cls_output = outputs.last_hidden_state[:, 0, :]  # [CLS]\n",
        "        combined = torch.cat([cls_output, extra_feats], dim=1)\n",
        "        return self.classifier(combined).squeeze(1)\n"
      ]
    },
    {
      "cell_type": "code",
      "execution_count": 89,
      "metadata": {
        "id": "L3MzKuWM2TuR"
      },
      "outputs": [],
      "source": [
        "train_dataset = BertPlanningDataset(train_df, extra_features, tokenizer)\n",
        "val_dataset = BertPlanningDataset(val_df, extra_features, tokenizer)\n",
        "test_dataset = BertPlanningDataset(test_df, extra_features, tokenizer)\n",
        "\n",
        "train_loader = DataLoader(train_dataset, batch_size=16, shuffle=True)\n",
        "val_loader = DataLoader(val_dataset, batch_size=16)\n",
        "test_loader = DataLoader(test_dataset, batch_size=16)\n",
        "\n",
        "device = torch.device(\"cuda\" if torch.cuda.is_available() else \"cpu\")\n",
        "model = BertWithExtraFeatures().to(device)\n",
        "\n",
        "criterion = nn.BCELoss()\n",
        "optimizer = torch.optim.AdamW(model.parameters(), lr=2e-5)\n"
      ]
    },
    {
      "cell_type": "code",
      "execution_count": 90,
      "metadata": {
        "colab": {
          "base_uri": "https://localhost:8080/"
        },
        "id": "fX6a-o8d2WGw",
        "outputId": "de9bb5c7-b675-4ca6-9864-e7f8d1352dbb"
      },
      "outputs": [
        {
          "output_type": "stream",
          "name": "stderr",
          "text": [
            "Epoch 1: 100%|██████████| 6/6 [00:08<00:00,  1.47s/it]\n"
          ]
        },
        {
          "output_type": "stream",
          "name": "stdout",
          "text": [
            "Epoch 1 | Loss: 2.1771 | Val Acc: 1.0000\n"
          ]
        },
        {
          "output_type": "stream",
          "name": "stderr",
          "text": [
            "Epoch 2: 100%|██████████| 6/6 [00:08<00:00,  1.49s/it]\n"
          ]
        },
        {
          "output_type": "stream",
          "name": "stdout",
          "text": [
            "Epoch 2 | Loss: 0.8687 | Val Acc: 1.0000\n"
          ]
        },
        {
          "output_type": "stream",
          "name": "stderr",
          "text": [
            "Epoch 3: 100%|██████████| 6/6 [00:08<00:00,  1.48s/it]\n"
          ]
        },
        {
          "output_type": "stream",
          "name": "stdout",
          "text": [
            "Epoch 3 | Loss: 0.5672 | Val Acc: 1.0000\n"
          ]
        }
      ],
      "source": [
        "def evaluate(model, loader):\n",
        "    model.eval()\n",
        "    total, correct = 0, 0\n",
        "    with torch.no_grad():\n",
        "        for batch in loader:\n",
        "            inputs = {k: v.to(device) for k, v in batch.items() if k != 'labels'}\n",
        "            labels = batch['labels'].to(device)\n",
        "            outputs = model(**inputs)\n",
        "            preds = (outputs > 0.5).float()\n",
        "            correct += (preds == labels).sum().item()\n",
        "            total += labels.size(0)\n",
        "    return correct / total\n",
        "\n",
        "num_epochs = 3\n",
        "for epoch in range(num_epochs):\n",
        "    model.train()\n",
        "    running_loss = 0.0\n",
        "    for batch in tqdm(train_loader, desc=f\"Epoch {epoch+1}\"):\n",
        "        inputs = {k: v.to(device) for k, v in batch.items() if k != 'labels'}\n",
        "        labels = batch['labels'].to(device)\n",
        "\n",
        "        optimizer.zero_grad()\n",
        "        outputs = model(**inputs)\n",
        "        loss = criterion(outputs, labels)\n",
        "        loss.backward()\n",
        "        optimizer.step()\n",
        "        running_loss += loss.item()\n",
        "\n",
        "    val_acc = evaluate(model, val_loader)\n",
        "    print(f\"Epoch {epoch+1} | Loss: {running_loss:.4f} | Val Acc: {val_acc:.4f}\")\n"
      ]
    },
    {
      "cell_type": "code",
      "execution_count": 91,
      "metadata": {
        "colab": {
          "base_uri": "https://localhost:8080/"
        },
        "id": "sUFL4t7L2X3p",
        "outputId": "42d7cd75-feab-4424-a68d-2770ca6302d2"
      },
      "outputs": [
        {
          "output_type": "stream",
          "name": "stdout",
          "text": [
            "Test Accuracy: 0.9500\n"
          ]
        }
      ],
      "source": [
        "test_acc = evaluate(model, test_loader)\n",
        "print(f\"Test Accuracy: {test_acc:.4f}\")\n"
      ]
    },
    {
      "cell_type": "code",
      "execution_count": 93,
      "metadata": {
        "id": "RuDHbyIe2wKU"
      },
      "outputs": [],
      "source": [
        "import pandas as pd\n",
        "import torch\n",
        "from torch.utils.data import DataLoader\n",
        "from transformers import BertTokenizer\n",
        "\n",
        "# 1. Load validation set (replace with your path or preloaded DataFrame)\n",
        "df_val = pd.read_csv(\"/content/all_generations_problem.csv\")\n",
        "#df_val = df_val[df_val[\"folder\"] == \"blocksworld\"]\n",
        "# 2. Ensure required fields exist and clean\n",
        "required_cols = ['problem', 'solves_problem', 'num_attempts'] + [\n",
        "    f'gen_{i}' for i in range(1, 5)\n",
        "] + ['valid_action_percent', 'consecutive_valid_steps', 'logical_violations']\n",
        "\n",
        "missing_cols = [col for col in required_cols if col not in df_val.columns]\n",
        "if missing_cols:\n",
        "    raise ValueError(f\"Missing columns in validation dataset: {missing_cols}\")\n",
        "\n",
        "# 3. Load BERT tokenizer\n",
        "tokenizer = BertTokenizer.from_pretrained('bert-base-uncased')\n",
        "\n",
        "# 4. Define extra numeric features\n",
        "extra_features = ['valid_action_percent', 'consecutive_valid_steps', 'logical_violations', 'plan_len']\n",
        "\n",
        "# 5. Define custom dataset class\n",
        "class BertPlanningDataset(torch.utils.data.Dataset):\n",
        "    def __init__(self, df, extra_features, tokenizer, max_length=512):\n",
        "        self.df = df.reset_index(drop=True)\n",
        "        self.extra_features = extra_features\n",
        "        self.tokenizer = tokenizer\n",
        "        self.max_length = max_length\n",
        "        self.labels = torch.tensor(df['solves_problem'].replace({False: 0, True: 1}).values, dtype=torch.float32)\n",
        "        self.extra_feats = torch.tensor(df[extra_features].fillna(0).values, dtype=torch.float32)\n",
        "\n",
        "    def __len__(self):\n",
        "        return len(self.df)\n",
        "\n",
        "    def __getitem__(self, idx):\n",
        "        row = self.df.loc[idx]\n",
        "        problem = row['problem']\n",
        "        gen_col = f\"gen_{int(row['num_attempts'])}\"\n",
        "        generated = str(row.get(gen_col, \"\")) if pd.notnull(row.get(gen_col, \"\")) else \"\"\n",
        "\n",
        "        encoded = self.tokenizer(\n",
        "        problem,\n",
        "        generated,\n",
        "        padding='max_length',\n",
        "        truncation='longest_first',\n",
        "        max_length=self.max_length,\n",
        "        return_tensors='pt'\n",
        "    )\n",
        "\n",
        "        item = {key: val.squeeze(0) for key, val in encoded.items()}\n",
        "        item['extra_feats'] = self.extra_feats[idx]\n",
        "        item['labels'] = self.labels[idx]\n",
        "        return item\n",
        "\n",
        "# 6. Create test dataset and DataLoader\n",
        "test_dataset = BertPlanningDataset(df_val, extra_features, tokenizer)\n",
        "test_loader = DataLoader(test_dataset, batch_size=32, shuffle=False)\n"
      ]
    },
    {
      "cell_type": "code",
      "execution_count": 94,
      "metadata": {
        "colab": {
          "base_uri": "https://localhost:8080/"
        },
        "id": "qm87tdLj23jg",
        "outputId": "8c873329-42c9-4a6e-b37b-443bdb8bd4b7"
      },
      "outputs": [
        {
          "output_type": "stream",
          "name": "stdout",
          "text": [
            "Test Accuracy: 0.7143\n"
          ]
        }
      ],
      "source": [
        "test_acc = evaluate(model, test_loader)\n",
        "print(f\"Test Accuracy: {test_acc:.4f}\")\n"
      ]
    },
    {
      "cell_type": "markdown",
      "metadata": {
        "id": "qiV6VoNQFqG1"
      },
      "source": [
        "# BERTA ONLY ENCODING"
      ]
    },
    {
      "cell_type": "code",
      "execution_count": 95,
      "metadata": {
        "id": "kRyKIVikFsdT"
      },
      "outputs": [],
      "source": [
        "class BertPlanningDataset(Dataset):\n",
        "    def __init__(self, df, extra_features, tokenizer, max_length=512):\n",
        "        self.df = df.reset_index(drop=True)\n",
        "        self.tokenizer = tokenizer\n",
        "        self.max_length = max_length\n",
        "\n",
        "        self.labels = torch.tensor(df['solves_problem'].values, dtype=torch.float32)\n",
        "\n",
        "        # Handle optional extra features\n",
        "        self.use_extra_feats = extra_features is not None and len(extra_features) > 0\n",
        "        if self.use_extra_feats:\n",
        "            self.extra_feats = torch.tensor(df[extra_features].values, dtype=torch.float32)\n",
        "\n",
        "    def __len__(self):\n",
        "        return len(self.df)\n",
        "\n",
        "    def __getitem__(self, idx):\n",
        "        row = self.df.loc[idx]\n",
        "        gen_col = f'gen_{int(row[\"num_attempts\"])}'\n",
        "        problem = row['problem']\n",
        "        generated = row.get(gen_col, \"\")\n",
        "\n",
        "        encoding = self.tokenizer(\n",
        "            problem,\n",
        "            generated,\n",
        "            padding='max_length',\n",
        "            truncation=True,\n",
        "            max_length=self.max_length,\n",
        "            return_tensors='pt'\n",
        "        )\n",
        "        item = {k: v.squeeze(0) for k, v in encoding.items()}\n",
        "\n",
        "        if self.use_extra_feats:\n",
        "            item['extra_feats'] = self.extra_feats[idx]\n",
        "\n",
        "        item['labels'] = self.labels[idx]\n",
        "        return item\n"
      ]
    },
    {
      "cell_type": "code",
      "execution_count": 96,
      "metadata": {
        "id": "b7I2o3nEFxTX",
        "colab": {
          "base_uri": "https://localhost:8080/",
          "height": 373
        },
        "outputId": "973d9714-cf59-4743-c3ff-0adee3ebf2bd"
      },
      "outputs": [
        {
          "output_type": "error",
          "ename": "ValueError",
          "evalue": "The least populated class in y has only 1 member, which is too few. The minimum number of groups for any class cannot be less than 2.",
          "traceback": [
            "\u001b[0;31m---------------------------------------------------------------------------\u001b[0m",
            "\u001b[0;31mValueError\u001b[0m                                Traceback (most recent call last)",
            "\u001b[0;32m/tmp/ipython-input-4080744691.py\u001b[0m in \u001b[0;36m<cell line: 0>\u001b[0;34m()\u001b[0m\n\u001b[1;32m     22\u001b[0m \u001b[0;31m# Train/Val/Test split\u001b[0m\u001b[0;34m\u001b[0m\u001b[0;34m\u001b[0m\u001b[0m\n\u001b[1;32m     23\u001b[0m \u001b[0mtrain_df\u001b[0m\u001b[0;34m,\u001b[0m \u001b[0mtemp_df\u001b[0m \u001b[0;34m=\u001b[0m \u001b[0mtrain_test_split\u001b[0m\u001b[0;34m(\u001b[0m\u001b[0mdf\u001b[0m\u001b[0;34m,\u001b[0m \u001b[0mtest_size\u001b[0m\u001b[0;34m=\u001b[0m\u001b[0;36m0.3\u001b[0m\u001b[0;34m,\u001b[0m \u001b[0mrandom_state\u001b[0m\u001b[0;34m=\u001b[0m\u001b[0;36m42\u001b[0m\u001b[0;34m,\u001b[0m \u001b[0mstratify\u001b[0m\u001b[0;34m=\u001b[0m\u001b[0mdf\u001b[0m\u001b[0;34m[\u001b[0m\u001b[0;34m'solves_problem'\u001b[0m\u001b[0;34m]\u001b[0m\u001b[0;34m)\u001b[0m\u001b[0;34m\u001b[0m\u001b[0;34m\u001b[0m\u001b[0m\n\u001b[0;32m---> 24\u001b[0;31m \u001b[0mval_df\u001b[0m\u001b[0;34m,\u001b[0m \u001b[0mtest_df\u001b[0m \u001b[0;34m=\u001b[0m \u001b[0mtrain_test_split\u001b[0m\u001b[0;34m(\u001b[0m\u001b[0mtemp_df\u001b[0m\u001b[0;34m,\u001b[0m \u001b[0mtest_size\u001b[0m\u001b[0;34m=\u001b[0m\u001b[0;36m0.5\u001b[0m\u001b[0;34m,\u001b[0m \u001b[0mrandom_state\u001b[0m\u001b[0;34m=\u001b[0m\u001b[0;36m42\u001b[0m\u001b[0;34m,\u001b[0m \u001b[0mstratify\u001b[0m\u001b[0;34m=\u001b[0m\u001b[0mtemp_df\u001b[0m\u001b[0;34m[\u001b[0m\u001b[0;34m'solves_problem'\u001b[0m\u001b[0;34m]\u001b[0m\u001b[0;34m)\u001b[0m\u001b[0;34m\u001b[0m\u001b[0;34m\u001b[0m\u001b[0m\n\u001b[0m\u001b[1;32m     25\u001b[0m \u001b[0;34m\u001b[0m\u001b[0m\n\u001b[1;32m     26\u001b[0m \u001b[0mtokenizer\u001b[0m \u001b[0;34m=\u001b[0m \u001b[0mBertTokenizer\u001b[0m\u001b[0;34m.\u001b[0m\u001b[0mfrom_pretrained\u001b[0m\u001b[0;34m(\u001b[0m\u001b[0;34m\"bert-base-uncased\"\u001b[0m\u001b[0;34m)\u001b[0m\u001b[0;34m\u001b[0m\u001b[0;34m\u001b[0m\u001b[0m\n",
            "\u001b[0;32m/usr/local/lib/python3.12/dist-packages/sklearn/utils/_param_validation.py\u001b[0m in \u001b[0;36mwrapper\u001b[0;34m(*args, **kwargs)\u001b[0m\n\u001b[1;32m    214\u001b[0m                     )\n\u001b[1;32m    215\u001b[0m                 ):\n\u001b[0;32m--> 216\u001b[0;31m                     \u001b[0;32mreturn\u001b[0m \u001b[0mfunc\u001b[0m\u001b[0;34m(\u001b[0m\u001b[0;34m*\u001b[0m\u001b[0margs\u001b[0m\u001b[0;34m,\u001b[0m \u001b[0;34m**\u001b[0m\u001b[0mkwargs\u001b[0m\u001b[0;34m)\u001b[0m\u001b[0;34m\u001b[0m\u001b[0;34m\u001b[0m\u001b[0m\n\u001b[0m\u001b[1;32m    217\u001b[0m             \u001b[0;32mexcept\u001b[0m \u001b[0mInvalidParameterError\u001b[0m \u001b[0;32mas\u001b[0m \u001b[0me\u001b[0m\u001b[0;34m:\u001b[0m\u001b[0;34m\u001b[0m\u001b[0;34m\u001b[0m\u001b[0m\n\u001b[1;32m    218\u001b[0m                 \u001b[0;31m# When the function is just a wrapper around an estimator, we allow\u001b[0m\u001b[0;34m\u001b[0m\u001b[0;34m\u001b[0m\u001b[0m\n",
            "\u001b[0;32m/usr/local/lib/python3.12/dist-packages/sklearn/model_selection/_split.py\u001b[0m in \u001b[0;36mtrain_test_split\u001b[0;34m(test_size, train_size, random_state, shuffle, stratify, *arrays)\u001b[0m\n\u001b[1;32m   2870\u001b[0m         \u001b[0mcv\u001b[0m \u001b[0;34m=\u001b[0m \u001b[0mCVClass\u001b[0m\u001b[0;34m(\u001b[0m\u001b[0mtest_size\u001b[0m\u001b[0;34m=\u001b[0m\u001b[0mn_test\u001b[0m\u001b[0;34m,\u001b[0m \u001b[0mtrain_size\u001b[0m\u001b[0;34m=\u001b[0m\u001b[0mn_train\u001b[0m\u001b[0;34m,\u001b[0m \u001b[0mrandom_state\u001b[0m\u001b[0;34m=\u001b[0m\u001b[0mrandom_state\u001b[0m\u001b[0;34m)\u001b[0m\u001b[0;34m\u001b[0m\u001b[0;34m\u001b[0m\u001b[0m\n\u001b[1;32m   2871\u001b[0m \u001b[0;34m\u001b[0m\u001b[0m\n\u001b[0;32m-> 2872\u001b[0;31m         \u001b[0mtrain\u001b[0m\u001b[0;34m,\u001b[0m \u001b[0mtest\u001b[0m \u001b[0;34m=\u001b[0m \u001b[0mnext\u001b[0m\u001b[0;34m(\u001b[0m\u001b[0mcv\u001b[0m\u001b[0;34m.\u001b[0m\u001b[0msplit\u001b[0m\u001b[0;34m(\u001b[0m\u001b[0mX\u001b[0m\u001b[0;34m=\u001b[0m\u001b[0marrays\u001b[0m\u001b[0;34m[\u001b[0m\u001b[0;36m0\u001b[0m\u001b[0;34m]\u001b[0m\u001b[0;34m,\u001b[0m \u001b[0my\u001b[0m\u001b[0;34m=\u001b[0m\u001b[0mstratify\u001b[0m\u001b[0;34m)\u001b[0m\u001b[0;34m)\u001b[0m\u001b[0;34m\u001b[0m\u001b[0;34m\u001b[0m\u001b[0m\n\u001b[0m\u001b[1;32m   2873\u001b[0m \u001b[0;34m\u001b[0m\u001b[0m\n\u001b[1;32m   2874\u001b[0m     \u001b[0mtrain\u001b[0m\u001b[0;34m,\u001b[0m \u001b[0mtest\u001b[0m \u001b[0;34m=\u001b[0m \u001b[0mensure_common_namespace_device\u001b[0m\u001b[0;34m(\u001b[0m\u001b[0marrays\u001b[0m\u001b[0;34m[\u001b[0m\u001b[0;36m0\u001b[0m\u001b[0;34m]\u001b[0m\u001b[0;34m,\u001b[0m \u001b[0mtrain\u001b[0m\u001b[0;34m,\u001b[0m \u001b[0mtest\u001b[0m\u001b[0;34m)\u001b[0m\u001b[0;34m\u001b[0m\u001b[0;34m\u001b[0m\u001b[0m\n",
            "\u001b[0;32m/usr/local/lib/python3.12/dist-packages/sklearn/model_selection/_split.py\u001b[0m in \u001b[0;36msplit\u001b[0;34m(self, X, y, groups)\u001b[0m\n\u001b[1;32m   1907\u001b[0m         \"\"\"\n\u001b[1;32m   1908\u001b[0m         \u001b[0mX\u001b[0m\u001b[0;34m,\u001b[0m \u001b[0my\u001b[0m\u001b[0;34m,\u001b[0m \u001b[0mgroups\u001b[0m \u001b[0;34m=\u001b[0m \u001b[0mindexable\u001b[0m\u001b[0;34m(\u001b[0m\u001b[0mX\u001b[0m\u001b[0;34m,\u001b[0m \u001b[0my\u001b[0m\u001b[0;34m,\u001b[0m \u001b[0mgroups\u001b[0m\u001b[0;34m)\u001b[0m\u001b[0;34m\u001b[0m\u001b[0;34m\u001b[0m\u001b[0m\n\u001b[0;32m-> 1909\u001b[0;31m         \u001b[0;32mfor\u001b[0m \u001b[0mtrain\u001b[0m\u001b[0;34m,\u001b[0m \u001b[0mtest\u001b[0m \u001b[0;32min\u001b[0m \u001b[0mself\u001b[0m\u001b[0;34m.\u001b[0m\u001b[0m_iter_indices\u001b[0m\u001b[0;34m(\u001b[0m\u001b[0mX\u001b[0m\u001b[0;34m,\u001b[0m \u001b[0my\u001b[0m\u001b[0;34m,\u001b[0m \u001b[0mgroups\u001b[0m\u001b[0;34m)\u001b[0m\u001b[0;34m:\u001b[0m\u001b[0;34m\u001b[0m\u001b[0;34m\u001b[0m\u001b[0m\n\u001b[0m\u001b[1;32m   1910\u001b[0m             \u001b[0;32myield\u001b[0m \u001b[0mtrain\u001b[0m\u001b[0;34m,\u001b[0m \u001b[0mtest\u001b[0m\u001b[0;34m\u001b[0m\u001b[0;34m\u001b[0m\u001b[0m\n\u001b[1;32m   1911\u001b[0m \u001b[0;34m\u001b[0m\u001b[0m\n",
            "\u001b[0;32m/usr/local/lib/python3.12/dist-packages/sklearn/model_selection/_split.py\u001b[0m in \u001b[0;36m_iter_indices\u001b[0;34m(self, X, y, groups)\u001b[0m\n\u001b[1;32m   2316\u001b[0m         \u001b[0mclass_counts\u001b[0m \u001b[0;34m=\u001b[0m \u001b[0mnp\u001b[0m\u001b[0;34m.\u001b[0m\u001b[0mbincount\u001b[0m\u001b[0;34m(\u001b[0m\u001b[0my_indices\u001b[0m\u001b[0;34m)\u001b[0m\u001b[0;34m\u001b[0m\u001b[0;34m\u001b[0m\u001b[0m\n\u001b[1;32m   2317\u001b[0m         \u001b[0;32mif\u001b[0m \u001b[0mnp\u001b[0m\u001b[0;34m.\u001b[0m\u001b[0mmin\u001b[0m\u001b[0;34m(\u001b[0m\u001b[0mclass_counts\u001b[0m\u001b[0;34m)\u001b[0m \u001b[0;34m<\u001b[0m \u001b[0;36m2\u001b[0m\u001b[0;34m:\u001b[0m\u001b[0;34m\u001b[0m\u001b[0;34m\u001b[0m\u001b[0m\n\u001b[0;32m-> 2318\u001b[0;31m             raise ValueError(\n\u001b[0m\u001b[1;32m   2319\u001b[0m                 \u001b[0;34m\"The least populated class in y has only 1\"\u001b[0m\u001b[0;34m\u001b[0m\u001b[0;34m\u001b[0m\u001b[0m\n\u001b[1;32m   2320\u001b[0m                 \u001b[0;34m\" member, which is too few. The minimum\"\u001b[0m\u001b[0;34m\u001b[0m\u001b[0;34m\u001b[0m\u001b[0m\n",
            "\u001b[0;31mValueError\u001b[0m: The least populated class in y has only 1 member, which is too few. The minimum number of groups for any class cannot be less than 2."
          ]
        }
      ],
      "source": [
        "import pandas as pd\n",
        "import torch\n",
        "import numpy as np\n",
        "from torch.utils.data import DataLoader, Dataset\n",
        "from transformers import BertTokenizer, BertModel\n",
        "from sklearn.model_selection import train_test_split\n",
        "import torch.nn as nn\n",
        "import torch.nn.functional as F\n",
        "from tqdm import tqdm\n",
        "\n",
        "# Load dataset\n",
        "df = pd.read_csv(f\"//content/blocksworld_generations_dataset_{llm}.csv\")\n",
        "\n",
        "# Label encoding\n",
        "df['solves_problem'] = df['solves_problem'].replace({False: 0.0, True: 1.0})\n",
        "df = df.drop_duplicates(subset='problem')\n",
        "\n",
        "# Features\n",
        "extra_features = ['valid_action_percent', 'consecutive_valid_steps', 'logical_violations', 'plan_len']\n",
        "df = df.dropna(subset=['problem', 'num_attempts'] + extra_features + ['solves_problem'])\n",
        "\n",
        "# Train/Val/Test split\n",
        "train_df, temp_df = train_test_split(df, test_size=0.3, random_state=42, stratify=df['solves_problem'])\n",
        "val_df, test_df = train_test_split(temp_df, test_size=0.5, random_state=42, stratify=temp_df['solves_problem'])\n",
        "\n",
        "tokenizer = BertTokenizer.from_pretrained(\"bert-base-uncased\")\n"
      ]
    },
    {
      "cell_type": "code",
      "execution_count": 98,
      "metadata": {
        "id": "T5xsAmD9F7du"
      },
      "outputs": [],
      "source": [
        "import torch\n",
        "import torch.nn as nn\n",
        "from transformers import BertModel\n",
        "\n",
        "class BertWithExtraFeatures(nn.Module):\n",
        "    def __init__(self, bert_model_name='bert-base-uncased', extra_feat_dim=0, dropout=0.3):\n",
        "        super().__init__()\n",
        "        self.bert = BertModel.from_pretrained(bert_model_name)\n",
        "        self.use_extra_feats = extra_feat_dim > 0\n",
        "        input_dim = self.bert.config.hidden_size + extra_feat_dim if self.use_extra_feats else self.bert.config.hidden_size\n",
        "\n",
        "        self.dropout = nn.Dropout(dropout)\n",
        "        self.classifier = nn.Sequential(\n",
        "            nn.Linear(input_dim, 128),\n",
        "            nn.ReLU(),\n",
        "            nn.Dropout(dropout),\n",
        "            nn.Linear(128, 1),\n",
        "            nn.Sigmoid()\n",
        "        )\n",
        "\n",
        "    def forward(self, input_ids, attention_mask, token_type_ids, extra_feats=None):\n",
        "        outputs = self.bert(input_ids=input_ids, attention_mask=attention_mask, token_type_ids=token_type_ids)\n",
        "        cls_output = outputs.last_hidden_state[:, 0, :]  # [CLS] token\n",
        "\n",
        "        if self.use_extra_feats:\n",
        "            if extra_feats is None:\n",
        "                raise ValueError(\"Model was initialized to use extra features, but none were provided.\")\n",
        "            combined = torch.cat([cls_output, extra_feats], dim=1)\n",
        "        else:\n",
        "            combined = cls_output\n",
        "\n",
        "        return self.classifier(combined).squeeze(1)\n"
      ]
    },
    {
      "cell_type": "code",
      "execution_count": 99,
      "metadata": {
        "id": "8XD0MXtPI8zm"
      },
      "outputs": [],
      "source": [
        "class BertPlanningDataset(Dataset):\n",
        "    def __init__(self, df, extra_features, tokenizer, max_length=512):\n",
        "        self.df = df.reset_index(drop=True)\n",
        "        self.tokenizer = tokenizer\n",
        "        self.max_length = max_length\n",
        "\n",
        "        self.labels = torch.tensor(df['solves_problem'].values, dtype=torch.float32)\n",
        "\n",
        "        # Handle optional extra features\n",
        "        self.use_extra_feats = extra_features is not None and len(extra_features) > 0\n",
        "        if self.use_extra_feats:\n",
        "            self.extra_feats = torch.tensor(df[extra_features].values, dtype=torch.float32)\n",
        "\n",
        "    def __len__(self):\n",
        "        return len(self.df)\n",
        "\n",
        "    def __getitem__(self, idx):\n",
        "        row = self.df.loc[idx]\n",
        "        gen_col = f'gen_{int(row[\"num_attempts\"])}'\n",
        "        problem = row['problem']\n",
        "        generated = row.get(gen_col, \"\")\n",
        "\n",
        "        encoding = self.tokenizer(\n",
        "            problem,\n",
        "            generated,\n",
        "            padding='max_length',\n",
        "            truncation=True,\n",
        "            max_length=self.max_length,\n",
        "            return_tensors='pt'\n",
        "        )\n",
        "        item = {k: v.squeeze(0) for k, v in encoding.items()}\n",
        "\n",
        "        if self.use_extra_feats:\n",
        "            item['extra_feats'] = self.extra_feats[idx]\n",
        "\n",
        "        item['labels'] = self.labels[idx]\n",
        "        return item\n"
      ]
    },
    {
      "cell_type": "code",
      "execution_count": 100,
      "metadata": {
        "id": "kUzrmOiMF_DX"
      },
      "outputs": [],
      "source": [
        "train_dataset = BertPlanningDataset(train_df, None, tokenizer)\n",
        "val_dataset = BertPlanningDataset(val_df, None, tokenizer)\n",
        "test_dataset = BertPlanningDataset(test_df, None, tokenizer)\n",
        "\n",
        "train_loader = DataLoader(train_dataset, batch_size=16, shuffle=True)\n",
        "val_loader = DataLoader(val_dataset, batch_size=16)\n",
        "test_loader = DataLoader(test_dataset, batch_size=16)\n",
        "\n",
        "device = torch.device(\"cuda\" if torch.cuda.is_available() else \"cpu\")\n",
        "model = BertWithExtraFeatures().to(device)\n",
        "\n",
        "criterion = nn.BCELoss()\n",
        "optimizer = torch.optim.AdamW(model.parameters(), lr=2e-5)\n"
      ]
    },
    {
      "cell_type": "code",
      "execution_count": 101,
      "metadata": {
        "colab": {
          "base_uri": "https://localhost:8080/"
        },
        "id": "Yvaz72ThGNu2",
        "outputId": "7f123e9b-965e-4527-b719-555608b58026"
      },
      "outputs": [
        {
          "output_type": "stream",
          "name": "stderr",
          "text": [
            "Epoch 1: 100%|██████████| 6/6 [00:08<00:00,  1.46s/it]\n"
          ]
        },
        {
          "output_type": "stream",
          "name": "stdout",
          "text": [
            "Epoch 1 | Loss: 2.2389 | Val Acc: 1.0000\n"
          ]
        },
        {
          "output_type": "stream",
          "name": "stderr",
          "text": [
            "Epoch 2: 100%|██████████| 6/6 [00:08<00:00,  1.46s/it]\n"
          ]
        },
        {
          "output_type": "stream",
          "name": "stdout",
          "text": [
            "Epoch 2 | Loss: 0.7849 | Val Acc: 1.0000\n"
          ]
        },
        {
          "output_type": "stream",
          "name": "stderr",
          "text": [
            "Epoch 3: 100%|██████████| 6/6 [00:09<00:00,  1.51s/it]\n"
          ]
        },
        {
          "output_type": "stream",
          "name": "stdout",
          "text": [
            "Epoch 3 | Loss: 0.5939 | Val Acc: 1.0000\n"
          ]
        }
      ],
      "source": [
        "def evaluate(model, loader):\n",
        "    model.eval()\n",
        "    total, correct = 0, 0\n",
        "    with torch.no_grad():\n",
        "        for batch in loader:\n",
        "            inputs = {k: v.to(device) for k, v in batch.items() if k != 'labels'}\n",
        "            labels = batch['labels'].to(device)\n",
        "            outputs = model(**inputs)\n",
        "            preds = (outputs > 0.5).float()\n",
        "            correct += (preds == labels).sum().item()\n",
        "            total += labels.size(0)\n",
        "    return correct / total\n",
        "\n",
        "num_epochs = 3\n",
        "for epoch in range(num_epochs):\n",
        "    model.train()\n",
        "    running_loss = 0.0\n",
        "    for batch in tqdm(train_loader, desc=f\"Epoch {epoch+1}\"):\n",
        "        inputs = {k: v.to(device) for k, v in batch.items() if k != 'labels'}\n",
        "        labels = batch['labels'].to(device)\n",
        "\n",
        "        optimizer.zero_grad()\n",
        "        outputs = model(**inputs)\n",
        "        loss = criterion(outputs, labels)\n",
        "        loss.backward()\n",
        "        optimizer.step()\n",
        "        running_loss += loss.item()\n",
        "\n",
        "    val_acc = evaluate(model, val_loader)\n",
        "    print(f\"Epoch {epoch+1} | Loss: {running_loss:.4f} | Val Acc: {val_acc:.4f}\")\n"
      ]
    },
    {
      "cell_type": "code",
      "execution_count": 102,
      "metadata": {
        "id": "72Y7ygyXGUAC"
      },
      "outputs": [],
      "source": [
        "import pandas as pd\n",
        "import torch\n",
        "from torch.utils.data import DataLoader, Dataset\n",
        "from transformers import BertTokenizer\n",
        "\n",
        "# 1. Load validation set\n",
        "df_val = pd.read_csv(\"/content/all_generations_problem.csv\")\n",
        "# 2. Ensure required fields exist and clean\n",
        "required_cols = ['problem', 'solves_problem', 'num_attempts'] + [\n",
        "    f'gen_{i}' for i in range(1, 5)\n",
        "]\n",
        "\n",
        "missing_cols = [col for col in required_cols if col not in df_val.columns]\n",
        "if missing_cols:\n",
        "    raise ValueError(f\"Missing columns in validation dataset: {missing_cols}\")\n",
        "\n",
        "# 3. Load BERT tokenizer\n",
        "tokenizer = BertTokenizer.from_pretrained('bert-base-uncased')\n",
        "\n",
        "# 4. Define custom dataset class without extra features\n",
        "class BertPlanningDataset(Dataset):\n",
        "    def __init__(self, df, tokenizer, max_length=512):\n",
        "        self.df = df.reset_index(drop=True)\n",
        "        self.tokenizer = tokenizer\n",
        "        self.max_length = max_length\n",
        "        self.labels = torch.tensor(df['solves_problem'].replace({False: 0, True: 1}).values, dtype=torch.float32)\n",
        "\n",
        "    def __len__(self):\n",
        "        return len(self.df)\n",
        "\n",
        "    def __getitem__(self, idx):\n",
        "        row = self.df.loc[idx]\n",
        "        problem = row['problem']\n",
        "        gen_col = f\"gen_{int(row['num_attempts'])}\"\n",
        "        generated = str(row.get(gen_col, \"\")) if pd.notnull(row.get(gen_col, \"\")) else \"\"\n",
        "\n",
        "        encoded = self.tokenizer(\n",
        "            problem,\n",
        "            generated,\n",
        "            padding='max_length',\n",
        "            truncation=True,\n",
        "            max_length=self.max_length,\n",
        "            return_tensors='pt',\n",
        "            return_overflowing_tokens=False\n",
        "        )\n",
        "\n",
        "        item = {key: val.squeeze(0) for key, val in encoded.items()}\n",
        "        item['labels'] = self.labels[idx]\n",
        "        return item\n",
        "\n",
        "# 5. Create test dataset and DataLoader\n",
        "test_dataset = BertPlanningDataset(df_val, tokenizer)\n",
        "test_loader = DataLoader(test_dataset, batch_size=32, shuffle=False)\n"
      ]
    },
    {
      "cell_type": "code",
      "execution_count": 103,
      "metadata": {
        "colab": {
          "base_uri": "https://localhost:8080/"
        },
        "id": "dnXN8YHEGd8B",
        "outputId": "55d9f90a-706b-436f-d2f1-1ace482c4be4"
      },
      "outputs": [
        {
          "output_type": "stream",
          "name": "stdout",
          "text": [
            "Test Accuracy: 0.7143\n"
          ]
        }
      ],
      "source": [
        "test_acc = evaluate(model, test_loader)\n",
        "print(f\"Test Accuracy: {test_acc:.4f}\")\n"
      ]
    },
    {
      "cell_type": "markdown",
      "metadata": {
        "id": "3f53Iqr5LEY0"
      },
      "source": [
        "# PROGRESSION"
      ]
    },
    {
      "cell_type": "code",
      "execution_count": 114,
      "metadata": {
        "id": "II6zp_yJLGBb"
      },
      "outputs": [],
      "source": [
        "import pandas as pd\n",
        "import numpy as np\n",
        "import torch\n",
        "from torch.utils.data import Dataset, DataLoader\n",
        "from sklearn.model_selection import train_test_split\n",
        "from sklearn.preprocessing import StandardScaler, MinMaxScaler\n",
        "\n",
        "# 1. Load the dataset\n",
        "df = pd.read_csv(f\"/content/blocksworld_generations_dataset_{llm}.csv\")\n",
        "\n",
        "# 2. Replace labels\n",
        "df['solves_problem'] = df['solves_problem'].replace({False: 0.0, True: 1.0})\n",
        "\n",
        "# 4. Drop original features (redundant)\n",
        "redundant = ['valid_action_percent', 'consecutive_valid_steps', 'logical_violations']\n",
        "df = df.drop(columns=redundant, errors='ignore')\n",
        "\n",
        "# 5. Define generation features\n",
        "gen_features = ['valid_action_percent', 'consecutive_valid_steps', 'logical_violations']\n",
        "features = []\n",
        "\n",
        "for i in range(1, 5):\n",
        "    for feat in gen_features:\n",
        "        features.append(f'gen{i}_{feat}')\n",
        "\n",
        "# 6. Optionally add 'plan_len'\n",
        "features.append('plan_len')\n",
        "\n",
        "# 8. Fill NaNs in gen features with padding (e.g., -1.0 or 0.0)\n",
        "df[features] = df[features].fillna(-1000)\n",
        "\n",
        "# 9. Convert to numpy arrays\n",
        "X = df[features].astype('float32').values\n",
        "y = df['solves_problem'].astype('float32').values.reshape(-1, 1)\n",
        "\n",
        "# 10. Train-val-test split\n",
        "X_train, X_temp, y_train, y_temp = train_test_split(X, y, test_size=0.3, random_state=42)\n",
        "X_val, X_test, y_val, y_test = train_test_split(X_temp, y_temp, test_size=0.5, random_state=42)\n",
        "\n",
        "# 11. Normalize (optional for tree models, important for MLPs)\n",
        "scaler = MinMaxScaler()\n",
        "X_train = scaler.fit_transform(X_train).astype('float32')\n",
        "X_val = scaler.transform(X_val).astype('float32')\n",
        "X_test = scaler.transform(X_test).astype('float32')\n",
        "\n",
        "# 12. Dataset definition\n",
        "class PlanningGenDataset(Dataset):\n",
        "    def __init__(self, X, y):\n",
        "        self.X = torch.tensor(X, dtype=torch.float32)\n",
        "        self.y = torch.tensor(y, dtype=torch.float32)\n",
        "\n",
        "    def __len__(self):\n",
        "        return len(self.X)\n",
        "\n",
        "    def __getitem__(self, idx):\n",
        "        return self.X[idx], self.y[idx]\n",
        "\n",
        "# 13. Dataloaders\n",
        "train_dataset = PlanningGenDataset(X_train, y_train)\n",
        "val_dataset = PlanningGenDataset(X_val, y_val)\n",
        "test_dataset = PlanningGenDataset(X_test, y_test)\n",
        "\n",
        "train_loader = DataLoader(train_dataset, batch_size=32, shuffle=True)\n",
        "val_loader = DataLoader(val_dataset, batch_size=32)\n",
        "test_loader = DataLoader(test_dataset, batch_size=32)\n"
      ]
    },
    {
      "cell_type": "code",
      "execution_count": 115,
      "metadata": {
        "colab": {
          "base_uri": "https://localhost:8080/",
          "height": 443
        },
        "id": "km17WilLlyu-",
        "outputId": "f9b3c566-e1c4-4907-f3ba-7c4d79993444"
      },
      "outputs": [
        {
          "output_type": "execute_result",
          "data": {
            "text/plain": [
              "     gen1_valid_action_percent  gen1_consecutive_valid_steps  \\\n",
              "0                     8.333333                             2   \n",
              "1                     4.761905                             1   \n",
              "2                    12.500000                             3   \n",
              "3                    11.111111                             2   \n",
              "4                     3.703704                             1   \n",
              "..                         ...                           ...   \n",
              "136                   6.250000                             1   \n",
              "137                   0.260078                             2   \n",
              "138                   5.263158                             1   \n",
              "139                   6.250000                             1   \n",
              "140                  15.789474                             3   \n",
              "\n",
              "     gen1_logical_violations  gen2_valid_action_percent  \\\n",
              "0                          3                   8.333333   \n",
              "1                          3                  40.909091   \n",
              "2                          3                   9.090909   \n",
              "3                          3                  17.647059   \n",
              "4                          3                   3.703704   \n",
              "..                       ...                        ...   \n",
              "136                        3                   5.882353   \n",
              "137                        3                   0.260078   \n",
              "138                        3                   2.777778   \n",
              "139                        3                   6.250000   \n",
              "140                        3                  40.909091   \n",
              "\n",
              "     gen2_consecutive_valid_steps  gen2_logical_violations  \\\n",
              "0                               2                        3   \n",
              "1                               9                        3   \n",
              "2                               2                        3   \n",
              "3                               3                        3   \n",
              "4                               1                        3   \n",
              "..                            ...                      ...   \n",
              "136                             1                        3   \n",
              "137                             2                        3   \n",
              "138                             1                        3   \n",
              "139                             1                        3   \n",
              "140                             9                        3   \n",
              "\n",
              "     gen3_valid_action_percent  gen3_consecutive_valid_steps  \\\n",
              "0                     8.333333                           2.0   \n",
              "1                    32.142857                           9.0   \n",
              "2                    12.500000                           3.0   \n",
              "3                    17.647059                           3.0   \n",
              "4                     3.703704                           1.0   \n",
              "..                         ...                           ...   \n",
              "136                   5.882353                           1.0   \n",
              "137                   0.260078                           2.0   \n",
              "138                  40.909091                           9.0   \n",
              "139                   6.250000                           1.0   \n",
              "140                  40.909091                           9.0   \n",
              "\n",
              "     gen3_logical_violations  gen4_valid_action_percent  \\\n",
              "0                        3.0                   8.333333   \n",
              "1                        3.0                  30.000000   \n",
              "2                        3.0                   9.090909   \n",
              "3                        3.0                  17.647059   \n",
              "4                        3.0                   3.703704   \n",
              "..                       ...                        ...   \n",
              "136                      3.0                   5.882353   \n",
              "137                      3.0                   0.260078   \n",
              "138                      3.0                  40.909091   \n",
              "139                      3.0                   6.250000   \n",
              "140                      3.0                  40.909091   \n",
              "\n",
              "     gen4_consecutive_valid_steps  gen4_logical_violations  plan_len  \n",
              "0                             2.0                      3.0        24  \n",
              "1                             9.0                      3.0        30  \n",
              "2                             2.0                      3.0        22  \n",
              "3                             3.0                      3.0        17  \n",
              "4                             1.0                      3.0        27  \n",
              "..                            ...                      ...       ...  \n",
              "136                           1.0                      3.0        17  \n",
              "137                           2.0                      3.0       769  \n",
              "138                           9.0                      3.0        22  \n",
              "139                           1.0                      3.0        16  \n",
              "140                           9.0                      3.0        22  \n",
              "\n",
              "[141 rows x 13 columns]"
            ],
            "text/html": [
              "\n",
              "  <div id=\"df-15cba7ac-6367-48ad-9a0c-767da2b8bd9a\" class=\"colab-df-container\">\n",
              "    <div>\n",
              "<style scoped>\n",
              "    .dataframe tbody tr th:only-of-type {\n",
              "        vertical-align: middle;\n",
              "    }\n",
              "\n",
              "    .dataframe tbody tr th {\n",
              "        vertical-align: top;\n",
              "    }\n",
              "\n",
              "    .dataframe thead th {\n",
              "        text-align: right;\n",
              "    }\n",
              "</style>\n",
              "<table border=\"1\" class=\"dataframe\">\n",
              "  <thead>\n",
              "    <tr style=\"text-align: right;\">\n",
              "      <th></th>\n",
              "      <th>gen1_valid_action_percent</th>\n",
              "      <th>gen1_consecutive_valid_steps</th>\n",
              "      <th>gen1_logical_violations</th>\n",
              "      <th>gen2_valid_action_percent</th>\n",
              "      <th>gen2_consecutive_valid_steps</th>\n",
              "      <th>gen2_logical_violations</th>\n",
              "      <th>gen3_valid_action_percent</th>\n",
              "      <th>gen3_consecutive_valid_steps</th>\n",
              "      <th>gen3_logical_violations</th>\n",
              "      <th>gen4_valid_action_percent</th>\n",
              "      <th>gen4_consecutive_valid_steps</th>\n",
              "      <th>gen4_logical_violations</th>\n",
              "      <th>plan_len</th>\n",
              "    </tr>\n",
              "  </thead>\n",
              "  <tbody>\n",
              "    <tr>\n",
              "      <th>0</th>\n",
              "      <td>8.333333</td>\n",
              "      <td>2</td>\n",
              "      <td>3</td>\n",
              "      <td>8.333333</td>\n",
              "      <td>2</td>\n",
              "      <td>3</td>\n",
              "      <td>8.333333</td>\n",
              "      <td>2.0</td>\n",
              "      <td>3.0</td>\n",
              "      <td>8.333333</td>\n",
              "      <td>2.0</td>\n",
              "      <td>3.0</td>\n",
              "      <td>24</td>\n",
              "    </tr>\n",
              "    <tr>\n",
              "      <th>1</th>\n",
              "      <td>4.761905</td>\n",
              "      <td>1</td>\n",
              "      <td>3</td>\n",
              "      <td>40.909091</td>\n",
              "      <td>9</td>\n",
              "      <td>3</td>\n",
              "      <td>32.142857</td>\n",
              "      <td>9.0</td>\n",
              "      <td>3.0</td>\n",
              "      <td>30.000000</td>\n",
              "      <td>9.0</td>\n",
              "      <td>3.0</td>\n",
              "      <td>30</td>\n",
              "    </tr>\n",
              "    <tr>\n",
              "      <th>2</th>\n",
              "      <td>12.500000</td>\n",
              "      <td>3</td>\n",
              "      <td>3</td>\n",
              "      <td>9.090909</td>\n",
              "      <td>2</td>\n",
              "      <td>3</td>\n",
              "      <td>12.500000</td>\n",
              "      <td>3.0</td>\n",
              "      <td>3.0</td>\n",
              "      <td>9.090909</td>\n",
              "      <td>2.0</td>\n",
              "      <td>3.0</td>\n",
              "      <td>22</td>\n",
              "    </tr>\n",
              "    <tr>\n",
              "      <th>3</th>\n",
              "      <td>11.111111</td>\n",
              "      <td>2</td>\n",
              "      <td>3</td>\n",
              "      <td>17.647059</td>\n",
              "      <td>3</td>\n",
              "      <td>3</td>\n",
              "      <td>17.647059</td>\n",
              "      <td>3.0</td>\n",
              "      <td>3.0</td>\n",
              "      <td>17.647059</td>\n",
              "      <td>3.0</td>\n",
              "      <td>3.0</td>\n",
              "      <td>17</td>\n",
              "    </tr>\n",
              "    <tr>\n",
              "      <th>4</th>\n",
              "      <td>3.703704</td>\n",
              "      <td>1</td>\n",
              "      <td>3</td>\n",
              "      <td>3.703704</td>\n",
              "      <td>1</td>\n",
              "      <td>3</td>\n",
              "      <td>3.703704</td>\n",
              "      <td>1.0</td>\n",
              "      <td>3.0</td>\n",
              "      <td>3.703704</td>\n",
              "      <td>1.0</td>\n",
              "      <td>3.0</td>\n",
              "      <td>27</td>\n",
              "    </tr>\n",
              "    <tr>\n",
              "      <th>...</th>\n",
              "      <td>...</td>\n",
              "      <td>...</td>\n",
              "      <td>...</td>\n",
              "      <td>...</td>\n",
              "      <td>...</td>\n",
              "      <td>...</td>\n",
              "      <td>...</td>\n",
              "      <td>...</td>\n",
              "      <td>...</td>\n",
              "      <td>...</td>\n",
              "      <td>...</td>\n",
              "      <td>...</td>\n",
              "      <td>...</td>\n",
              "    </tr>\n",
              "    <tr>\n",
              "      <th>136</th>\n",
              "      <td>6.250000</td>\n",
              "      <td>1</td>\n",
              "      <td>3</td>\n",
              "      <td>5.882353</td>\n",
              "      <td>1</td>\n",
              "      <td>3</td>\n",
              "      <td>5.882353</td>\n",
              "      <td>1.0</td>\n",
              "      <td>3.0</td>\n",
              "      <td>5.882353</td>\n",
              "      <td>1.0</td>\n",
              "      <td>3.0</td>\n",
              "      <td>17</td>\n",
              "    </tr>\n",
              "    <tr>\n",
              "      <th>137</th>\n",
              "      <td>0.260078</td>\n",
              "      <td>2</td>\n",
              "      <td>3</td>\n",
              "      <td>0.260078</td>\n",
              "      <td>2</td>\n",
              "      <td>3</td>\n",
              "      <td>0.260078</td>\n",
              "      <td>2.0</td>\n",
              "      <td>3.0</td>\n",
              "      <td>0.260078</td>\n",
              "      <td>2.0</td>\n",
              "      <td>3.0</td>\n",
              "      <td>769</td>\n",
              "    </tr>\n",
              "    <tr>\n",
              "      <th>138</th>\n",
              "      <td>5.263158</td>\n",
              "      <td>1</td>\n",
              "      <td>3</td>\n",
              "      <td>2.777778</td>\n",
              "      <td>1</td>\n",
              "      <td>3</td>\n",
              "      <td>40.909091</td>\n",
              "      <td>9.0</td>\n",
              "      <td>3.0</td>\n",
              "      <td>40.909091</td>\n",
              "      <td>9.0</td>\n",
              "      <td>3.0</td>\n",
              "      <td>22</td>\n",
              "    </tr>\n",
              "    <tr>\n",
              "      <th>139</th>\n",
              "      <td>6.250000</td>\n",
              "      <td>1</td>\n",
              "      <td>3</td>\n",
              "      <td>6.250000</td>\n",
              "      <td>1</td>\n",
              "      <td>3</td>\n",
              "      <td>6.250000</td>\n",
              "      <td>1.0</td>\n",
              "      <td>3.0</td>\n",
              "      <td>6.250000</td>\n",
              "      <td>1.0</td>\n",
              "      <td>3.0</td>\n",
              "      <td>16</td>\n",
              "    </tr>\n",
              "    <tr>\n",
              "      <th>140</th>\n",
              "      <td>15.789474</td>\n",
              "      <td>3</td>\n",
              "      <td>3</td>\n",
              "      <td>40.909091</td>\n",
              "      <td>9</td>\n",
              "      <td>3</td>\n",
              "      <td>40.909091</td>\n",
              "      <td>9.0</td>\n",
              "      <td>3.0</td>\n",
              "      <td>40.909091</td>\n",
              "      <td>9.0</td>\n",
              "      <td>3.0</td>\n",
              "      <td>22</td>\n",
              "    </tr>\n",
              "  </tbody>\n",
              "</table>\n",
              "<p>141 rows × 13 columns</p>\n",
              "</div>\n",
              "    <div class=\"colab-df-buttons\">\n",
              "\n",
              "  <div class=\"colab-df-container\">\n",
              "    <button class=\"colab-df-convert\" onclick=\"convertToInteractive('df-15cba7ac-6367-48ad-9a0c-767da2b8bd9a')\"\n",
              "            title=\"Convert this dataframe to an interactive table.\"\n",
              "            style=\"display:none;\">\n",
              "\n",
              "  <svg xmlns=\"http://www.w3.org/2000/svg\" height=\"24px\" viewBox=\"0 -960 960 960\">\n",
              "    <path d=\"M120-120v-720h720v720H120Zm60-500h600v-160H180v160Zm220 220h160v-160H400v160Zm0 220h160v-160H400v160ZM180-400h160v-160H180v160Zm440 0h160v-160H620v160ZM180-180h160v-160H180v160Zm440 0h160v-160H620v160Z\"/>\n",
              "  </svg>\n",
              "    </button>\n",
              "\n",
              "  <style>\n",
              "    .colab-df-container {\n",
              "      display:flex;\n",
              "      gap: 12px;\n",
              "    }\n",
              "\n",
              "    .colab-df-convert {\n",
              "      background-color: #E8F0FE;\n",
              "      border: none;\n",
              "      border-radius: 50%;\n",
              "      cursor: pointer;\n",
              "      display: none;\n",
              "      fill: #1967D2;\n",
              "      height: 32px;\n",
              "      padding: 0 0 0 0;\n",
              "      width: 32px;\n",
              "    }\n",
              "\n",
              "    .colab-df-convert:hover {\n",
              "      background-color: #E2EBFA;\n",
              "      box-shadow: 0px 1px 2px rgba(60, 64, 67, 0.3), 0px 1px 3px 1px rgba(60, 64, 67, 0.15);\n",
              "      fill: #174EA6;\n",
              "    }\n",
              "\n",
              "    .colab-df-buttons div {\n",
              "      margin-bottom: 4px;\n",
              "    }\n",
              "\n",
              "    [theme=dark] .colab-df-convert {\n",
              "      background-color: #3B4455;\n",
              "      fill: #D2E3FC;\n",
              "    }\n",
              "\n",
              "    [theme=dark] .colab-df-convert:hover {\n",
              "      background-color: #434B5C;\n",
              "      box-shadow: 0px 1px 3px 1px rgba(0, 0, 0, 0.15);\n",
              "      filter: drop-shadow(0px 1px 2px rgba(0, 0, 0, 0.3));\n",
              "      fill: #FFFFFF;\n",
              "    }\n",
              "  </style>\n",
              "\n",
              "    <script>\n",
              "      const buttonEl =\n",
              "        document.querySelector('#df-15cba7ac-6367-48ad-9a0c-767da2b8bd9a button.colab-df-convert');\n",
              "      buttonEl.style.display =\n",
              "        google.colab.kernel.accessAllowed ? 'block' : 'none';\n",
              "\n",
              "      async function convertToInteractive(key) {\n",
              "        const element = document.querySelector('#df-15cba7ac-6367-48ad-9a0c-767da2b8bd9a');\n",
              "        const dataTable =\n",
              "          await google.colab.kernel.invokeFunction('convertToInteractive',\n",
              "                                                    [key], {});\n",
              "        if (!dataTable) return;\n",
              "\n",
              "        const docLinkHtml = 'Like what you see? Visit the ' +\n",
              "          '<a target=\"_blank\" href=https://colab.research.google.com/notebooks/data_table.ipynb>data table notebook</a>'\n",
              "          + ' to learn more about interactive tables.';\n",
              "        element.innerHTML = '';\n",
              "        dataTable['output_type'] = 'display_data';\n",
              "        await google.colab.output.renderOutput(dataTable, element);\n",
              "        const docLink = document.createElement('div');\n",
              "        docLink.innerHTML = docLinkHtml;\n",
              "        element.appendChild(docLink);\n",
              "      }\n",
              "    </script>\n",
              "  </div>\n",
              "\n",
              "\n",
              "    <div id=\"df-e479b41f-9283-4448-9c5b-9cba2545e8ae\">\n",
              "      <button class=\"colab-df-quickchart\" onclick=\"quickchart('df-e479b41f-9283-4448-9c5b-9cba2545e8ae')\"\n",
              "                title=\"Suggest charts\"\n",
              "                style=\"display:none;\">\n",
              "\n",
              "<svg xmlns=\"http://www.w3.org/2000/svg\" height=\"24px\"viewBox=\"0 0 24 24\"\n",
              "     width=\"24px\">\n",
              "    <g>\n",
              "        <path d=\"M19 3H5c-1.1 0-2 .9-2 2v14c0 1.1.9 2 2 2h14c1.1 0 2-.9 2-2V5c0-1.1-.9-2-2-2zM9 17H7v-7h2v7zm4 0h-2V7h2v10zm4 0h-2v-4h2v4z\"/>\n",
              "    </g>\n",
              "</svg>\n",
              "      </button>\n",
              "\n",
              "<style>\n",
              "  .colab-df-quickchart {\n",
              "      --bg-color: #E8F0FE;\n",
              "      --fill-color: #1967D2;\n",
              "      --hover-bg-color: #E2EBFA;\n",
              "      --hover-fill-color: #174EA6;\n",
              "      --disabled-fill-color: #AAA;\n",
              "      --disabled-bg-color: #DDD;\n",
              "  }\n",
              "\n",
              "  [theme=dark] .colab-df-quickchart {\n",
              "      --bg-color: #3B4455;\n",
              "      --fill-color: #D2E3FC;\n",
              "      --hover-bg-color: #434B5C;\n",
              "      --hover-fill-color: #FFFFFF;\n",
              "      --disabled-bg-color: #3B4455;\n",
              "      --disabled-fill-color: #666;\n",
              "  }\n",
              "\n",
              "  .colab-df-quickchart {\n",
              "    background-color: var(--bg-color);\n",
              "    border: none;\n",
              "    border-radius: 50%;\n",
              "    cursor: pointer;\n",
              "    display: none;\n",
              "    fill: var(--fill-color);\n",
              "    height: 32px;\n",
              "    padding: 0;\n",
              "    width: 32px;\n",
              "  }\n",
              "\n",
              "  .colab-df-quickchart:hover {\n",
              "    background-color: var(--hover-bg-color);\n",
              "    box-shadow: 0 1px 2px rgba(60, 64, 67, 0.3), 0 1px 3px 1px rgba(60, 64, 67, 0.15);\n",
              "    fill: var(--button-hover-fill-color);\n",
              "  }\n",
              "\n",
              "  .colab-df-quickchart-complete:disabled,\n",
              "  .colab-df-quickchart-complete:disabled:hover {\n",
              "    background-color: var(--disabled-bg-color);\n",
              "    fill: var(--disabled-fill-color);\n",
              "    box-shadow: none;\n",
              "  }\n",
              "\n",
              "  .colab-df-spinner {\n",
              "    border: 2px solid var(--fill-color);\n",
              "    border-color: transparent;\n",
              "    border-bottom-color: var(--fill-color);\n",
              "    animation:\n",
              "      spin 1s steps(1) infinite;\n",
              "  }\n",
              "\n",
              "  @keyframes spin {\n",
              "    0% {\n",
              "      border-color: transparent;\n",
              "      border-bottom-color: var(--fill-color);\n",
              "      border-left-color: var(--fill-color);\n",
              "    }\n",
              "    20% {\n",
              "      border-color: transparent;\n",
              "      border-left-color: var(--fill-color);\n",
              "      border-top-color: var(--fill-color);\n",
              "    }\n",
              "    30% {\n",
              "      border-color: transparent;\n",
              "      border-left-color: var(--fill-color);\n",
              "      border-top-color: var(--fill-color);\n",
              "      border-right-color: var(--fill-color);\n",
              "    }\n",
              "    40% {\n",
              "      border-color: transparent;\n",
              "      border-right-color: var(--fill-color);\n",
              "      border-top-color: var(--fill-color);\n",
              "    }\n",
              "    60% {\n",
              "      border-color: transparent;\n",
              "      border-right-color: var(--fill-color);\n",
              "    }\n",
              "    80% {\n",
              "      border-color: transparent;\n",
              "      border-right-color: var(--fill-color);\n",
              "      border-bottom-color: var(--fill-color);\n",
              "    }\n",
              "    90% {\n",
              "      border-color: transparent;\n",
              "      border-bottom-color: var(--fill-color);\n",
              "    }\n",
              "  }\n",
              "</style>\n",
              "\n",
              "      <script>\n",
              "        async function quickchart(key) {\n",
              "          const quickchartButtonEl =\n",
              "            document.querySelector('#' + key + ' button');\n",
              "          quickchartButtonEl.disabled = true;  // To prevent multiple clicks.\n",
              "          quickchartButtonEl.classList.add('colab-df-spinner');\n",
              "          try {\n",
              "            const charts = await google.colab.kernel.invokeFunction(\n",
              "                'suggestCharts', [key], {});\n",
              "          } catch (error) {\n",
              "            console.error('Error during call to suggestCharts:', error);\n",
              "          }\n",
              "          quickchartButtonEl.classList.remove('colab-df-spinner');\n",
              "          quickchartButtonEl.classList.add('colab-df-quickchart-complete');\n",
              "        }\n",
              "        (() => {\n",
              "          let quickchartButtonEl =\n",
              "            document.querySelector('#df-e479b41f-9283-4448-9c5b-9cba2545e8ae button');\n",
              "          quickchartButtonEl.style.display =\n",
              "            google.colab.kernel.accessAllowed ? 'block' : 'none';\n",
              "        })();\n",
              "      </script>\n",
              "    </div>\n",
              "\n",
              "    </div>\n",
              "  </div>\n"
            ],
            "application/vnd.google.colaboratory.intrinsic+json": {
              "type": "dataframe",
              "summary": "{\n  \"name\": \"df[features]\",\n  \"rows\": 141,\n  \"fields\": [\n    {\n      \"column\": \"gen1_valid_action_percent\",\n      \"properties\": {\n        \"dtype\": \"number\",\n        \"std\": 23.67662345076358,\n        \"min\": 0.0,\n        \"max\": 100.0,\n        \"num_unique_values\": 50,\n        \"samples\": [\n          5.882352941176471,\n          6.25,\n          83.33333333333333\n        ],\n        \"semantic_type\": \"\",\n        \"description\": \"\"\n      }\n    },\n    {\n      \"column\": \"gen1_consecutive_valid_steps\",\n      \"properties\": {\n        \"dtype\": \"number\",\n        \"std\": 2,\n        \"min\": 0,\n        \"max\": 22,\n        \"num_unique_values\": 13,\n        \"samples\": [\n          13,\n          10,\n          2\n        ],\n        \"semantic_type\": \"\",\n        \"description\": \"\"\n      }\n    },\n    {\n      \"column\": \"gen1_logical_violations\",\n      \"properties\": {\n        \"dtype\": \"number\",\n        \"std\": 0,\n        \"min\": 0,\n        \"max\": 3,\n        \"num_unique_values\": 2,\n        \"samples\": [\n          0,\n          3\n        ],\n        \"semantic_type\": \"\",\n        \"description\": \"\"\n      }\n    },\n    {\n      \"column\": \"gen2_valid_action_percent\",\n      \"properties\": {\n        \"dtype\": \"number\",\n        \"std\": 25.093290786539658,\n        \"min\": 0.0,\n        \"max\": 100.0,\n        \"num_unique_values\": 61,\n        \"samples\": [\n          8.333333333333334,\n          10.526315789473683\n        ],\n        \"semantic_type\": \"\",\n        \"description\": \"\"\n      }\n    },\n    {\n      \"column\": \"gen2_consecutive_valid_steps\",\n      \"properties\": {\n        \"dtype\": \"number\",\n        \"std\": 3,\n        \"min\": 0,\n        \"max\": 22,\n        \"num_unique_values\": 14,\n        \"samples\": [\n          7,\n          4\n        ],\n        \"semantic_type\": \"\",\n        \"description\": \"\"\n      }\n    },\n    {\n      \"column\": \"gen2_logical_violations\",\n      \"properties\": {\n        \"dtype\": \"number\",\n        \"std\": 0,\n        \"min\": 0,\n        \"max\": 3,\n        \"num_unique_values\": 2,\n        \"samples\": [\n          0,\n          3\n        ],\n        \"semantic_type\": \"\",\n        \"description\": \"\"\n      }\n    },\n    {\n      \"column\": \"gen3_valid_action_percent\",\n      \"properties\": {\n        \"dtype\": \"number\",\n        \"std\": 148.9387257248021,\n        \"min\": -1000.0,\n        \"max\": 100.0,\n        \"num_unique_values\": 63,\n        \"samples\": [\n          0.2600780234070221,\n          8.823529411764707\n        ],\n        \"semantic_type\": \"\",\n        \"description\": \"\"\n      }\n    },\n    {\n      \"column\": \"gen3_consecutive_valid_steps\",\n      \"properties\": {\n        \"dtype\": \"number\",\n        \"std\": 145.26308906805178,\n        \"min\": -1000.0,\n        \"max\": 22.0,\n        \"num_unique_values\": 15,\n        \"samples\": [\n          4.0,\n          7.0\n        ],\n        \"semantic_type\": \"\",\n        \"description\": \"\"\n      }\n    },\n    {\n      \"column\": \"gen3_logical_violations\",\n      \"properties\": {\n        \"dtype\": \"number\",\n        \"std\": 145.2332418176893,\n        \"min\": -1000.0,\n        \"max\": 3.0,\n        \"num_unique_values\": 3,\n        \"samples\": [\n          3.0,\n          0.0\n        ],\n        \"semantic_type\": \"\",\n        \"description\": \"\"\n      }\n    },\n    {\n      \"column\": \"gen4_valid_action_percent\",\n      \"properties\": {\n        \"dtype\": \"number\",\n        \"std\": 149.0485083233852,\n        \"min\": -1000.0,\n        \"max\": 100.0,\n        \"num_unique_values\": 62,\n        \"samples\": [\n          7.894736842105263,\n          4.0\n        ],\n        \"semantic_type\": \"\",\n        \"description\": \"\"\n      }\n    },\n    {\n      \"column\": \"gen4_consecutive_valid_steps\",\n      \"properties\": {\n        \"dtype\": \"number\",\n        \"std\": 145.2804261728904,\n        \"min\": -1000.0,\n        \"max\": 22.0,\n        \"num_unique_values\": 14,\n        \"samples\": [\n          15.0,\n          10.0\n        ],\n        \"semantic_type\": \"\",\n        \"description\": \"\"\n      }\n    },\n    {\n      \"column\": \"gen4_logical_violations\",\n      \"properties\": {\n        \"dtype\": \"number\",\n        \"std\": 145.23913411690157,\n        \"min\": -1000.0,\n        \"max\": 3.0,\n        \"num_unique_values\": 3,\n        \"samples\": [\n          3.0,\n          0.0\n        ],\n        \"semantic_type\": \"\",\n        \"description\": \"\"\n      }\n    },\n    {\n      \"column\": \"plan_len\",\n      \"properties\": {\n        \"dtype\": \"number\",\n        \"std\": 142,\n        \"min\": 4,\n        \"max\": 800,\n        \"num_unique_values\": 35,\n        \"samples\": [\n          18,\n          800\n        ],\n        \"semantic_type\": \"\",\n        \"description\": \"\"\n      }\n    }\n  ]\n}"
            }
          },
          "metadata": {},
          "execution_count": 115
        }
      ],
      "source": [
        "df[features]"
      ]
    },
    {
      "cell_type": "code",
      "execution_count": 116,
      "metadata": {
        "colab": {
          "base_uri": "https://localhost:8080/"
        },
        "id": "nyhYVAlhLbLI",
        "outputId": "a55fe82b-e010-4115-8578-cc4dc029f581"
      },
      "outputs": [
        {
          "output_type": "stream",
          "name": "stdout",
          "text": [
            "Epoch 1/100 | Train Loss: 0.6456 | Val Loss: 0.6182 | Val Acc: 1.0000\n",
            "Epoch 2/100 | Train Loss: 0.6121 | Val Loss: 0.6081 | Val Acc: 1.0000\n",
            "Epoch 3/100 | Train Loss: 0.5776 | Val Loss: 0.6000 | Val Acc: 1.0000\n",
            "Epoch 4/100 | Train Loss: 0.5419 | Val Loss: 0.5890 | Val Acc: 1.0000\n",
            "Epoch 5/100 | Train Loss: 0.5127 | Val Loss: 0.5740 | Val Acc: 1.0000\n",
            "Epoch 6/100 | Train Loss: 0.4853 | Val Loss: 0.5573 | Val Acc: 1.0000\n",
            "Epoch 7/100 | Train Loss: 0.4420 | Val Loss: 0.5279 | Val Acc: 1.0000\n",
            "Epoch 8/100 | Train Loss: 0.4159 | Val Loss: 0.4970 | Val Acc: 1.0000\n",
            "Epoch 9/100 | Train Loss: 0.3906 | Val Loss: 0.4616 | Val Acc: 1.0000\n",
            "Epoch 10/100 | Train Loss: 0.3539 | Val Loss: 0.4219 | Val Acc: 1.0000\n",
            "Epoch 11/100 | Train Loss: 0.3196 | Val Loss: 0.3802 | Val Acc: 1.0000\n",
            "Epoch 12/100 | Train Loss: 0.3023 | Val Loss: 0.3383 | Val Acc: 1.0000\n",
            "Epoch 13/100 | Train Loss: 0.2739 | Val Loss: 0.2775 | Val Acc: 1.0000\n",
            "Epoch 14/100 | Train Loss: 0.2432 | Val Loss: 0.2189 | Val Acc: 1.0000\n",
            "Epoch 15/100 | Train Loss: 0.2191 | Val Loss: 0.1886 | Val Acc: 1.0000\n",
            "Epoch 16/100 | Train Loss: 0.1829 | Val Loss: 0.1627 | Val Acc: 1.0000\n",
            "Epoch 17/100 | Train Loss: 0.1734 | Val Loss: 0.1419 | Val Acc: 1.0000\n",
            "Epoch 18/100 | Train Loss: 0.1538 | Val Loss: 0.1210 | Val Acc: 1.0000\n",
            "Epoch 19/100 | Train Loss: 0.1339 | Val Loss: 0.0950 | Val Acc: 1.0000\n",
            "Epoch 20/100 | Train Loss: 0.1179 | Val Loss: 0.0822 | Val Acc: 1.0000\n",
            "Epoch 21/100 | Train Loss: 0.0981 | Val Loss: 0.0723 | Val Acc: 1.0000\n",
            "Epoch 22/100 | Train Loss: 0.0985 | Val Loss: 0.0637 | Val Acc: 1.0000\n",
            "Epoch 23/100 | Train Loss: 0.0893 | Val Loss: 0.0605 | Val Acc: 1.0000\n",
            "Epoch 24/100 | Train Loss: 0.0816 | Val Loss: 0.0569 | Val Acc: 1.0000\n",
            "Epoch 25/100 | Train Loss: 0.0673 | Val Loss: 0.0636 | Val Acc: 1.0000\n",
            "Epoch 26/100 | Train Loss: 0.0589 | Val Loss: 0.0611 | Val Acc: 1.0000\n",
            "Epoch 27/100 | Train Loss: 0.0493 | Val Loss: 0.0613 | Val Acc: 1.0000\n",
            "Epoch 28/100 | Train Loss: 0.0427 | Val Loss: 0.0660 | Val Acc: 0.9524\n",
            "Epoch 29/100 | Train Loss: 0.0435 | Val Loss: 0.0673 | Val Acc: 0.9524\n",
            "Epoch 30/100 | Train Loss: 0.0385 | Val Loss: 0.0683 | Val Acc: 0.9524\n",
            "Epoch 31/100 | Train Loss: 0.0350 | Val Loss: 0.0684 | Val Acc: 0.9524\n",
            "Epoch 32/100 | Train Loss: 0.0277 | Val Loss: 0.0707 | Val Acc: 0.9524\n",
            "Early stopping triggered.\n"
          ]
        }
      ],
      "source": [
        "import torch.optim as optim\n",
        "\n",
        "device = torch.device(\"cuda\" if torch.cuda.is_available() else \"cpu\")\n",
        "model = MetaConfidenceNet(input_dim=X.shape[1]).to(device)\n",
        "criterion = nn.BCEWithLogitsLoss()\n",
        "optimizer = optim.Adam(model.parameters(), lr=1e-3)\n",
        "early_stopping = EarlyStopping(patience=8)\n",
        "\n",
        "def evaluate(loader):\n",
        "    model.eval()\n",
        "    total_loss = 0\n",
        "    correct = 0\n",
        "    total = 0\n",
        "    with torch.no_grad():\n",
        "        for X_batch, y_batch in loader:\n",
        "            X_batch = X_batch.to(device)\n",
        "            y_batch = y_batch.to(device)\n",
        "            outputs = model(X_batch)\n",
        "            loss = criterion(outputs, y_batch)\n",
        "            total_loss += loss.item() * y_batch.size(0)\n",
        "\n",
        "            preds = (torch.sigmoid(outputs) > 0.5).float()\n",
        "            correct += (preds == y_batch).sum().item()\n",
        "            total += y_batch.size(0)\n",
        "\n",
        "    return total_loss / total, correct / total\n",
        "\n",
        "# Train\n",
        "n_epochs = 100\n",
        "for epoch in range(n_epochs):\n",
        "    model.train()\n",
        "    running_loss = 0\n",
        "    for X_batch, y_batch in train_loader:\n",
        "        X_batch = X_batch.to(device)\n",
        "        y_batch = y_batch.to(device)\n",
        "        optimizer.zero_grad()\n",
        "        outputs = model(X_batch)\n",
        "        loss = criterion(outputs, y_batch)\n",
        "        loss.backward()\n",
        "        optimizer.step()\n",
        "        running_loss += loss.item() * y_batch.size(0)\n",
        "\n",
        "    train_loss = running_loss / len(train_loader.dataset)\n",
        "    val_loss, val_acc = evaluate(val_loader)\n",
        "\n",
        "    print(f\"Epoch {epoch+1}/{n_epochs} | Train Loss: {train_loss:.4f} | Val Loss: {val_loss:.4f} | Val Acc: {val_acc:.4f}\")\n",
        "\n",
        "    early_stopping(val_loss)\n",
        "    if early_stopping.early_stop:\n",
        "        print(\"Early stopping triggered.\")\n",
        "        break\n"
      ]
    },
    {
      "cell_type": "code",
      "execution_count": 117,
      "metadata": {
        "colab": {
          "base_uri": "https://localhost:8080/"
        },
        "id": "ay1llkBSLglv",
        "outputId": "2dce82b4-5a32-45f5-9ee9-ab5c33ef2ff5"
      },
      "outputs": [
        {
          "output_type": "stream",
          "name": "stdout",
          "text": [
            "\n",
            "Test Loss: 0.0252 | Test Accuracy: 1.0000\n"
          ]
        }
      ],
      "source": [
        "test_loss, test_acc = evaluate(test_loader)\n",
        "print(f\"\\nTest Loss: {test_loss:.4f} | Test Accuracy: {test_acc:.4f}\")\n"
      ]
    },
    {
      "cell_type": "code",
      "execution_count": 118,
      "metadata": {
        "id": "PYHnGqp9LrXF"
      },
      "outputs": [],
      "source": [
        "import pandas as pd\n",
        "import numpy as np\n",
        "import torch\n",
        "from torch.utils.data import Dataset, DataLoader\n",
        "\n",
        "# 1. Load the new test CSV\n",
        "df = pd.read_csv(\"/content/all_generations_problem.csv\")\n",
        "\n",
        "# 2. Drop redundant features if they exist\n",
        "redundant = ['valid_action_percent', 'consecutive_valid_steps', 'logical_violations']\n",
        "df = df.drop(columns=redundant, errors='ignore')\n",
        "\n",
        "# 3. Define the exact same 13 features as training\n",
        "gen_features = ['valid_action_percent', 'consecutive_valid_steps', 'logical_violations']\n",
        "features = []\n",
        "\n",
        "for i in range(1, 5):\n",
        "    for feat in gen_features:\n",
        "        features.append(f'gen{i}_{feat}')\n",
        "\n",
        "features.append('plan_len')  # Add plan_len to make it 13 total\n",
        "# 5. Replace target label\n",
        "df['solves_problem'] = df['solves_problem'].replace({False: 0.0, True: 1.0})\n",
        "\n",
        "# 6. Pad remaining NaNs in features (for early-stopping generations)\n",
        "df[features] = df[features].fillna(-1000)\n",
        "\n",
        "# 7. Extract and convert to float32\n",
        "X_test = df[features].astype('float32').values\n",
        "y_test = df['solves_problem'].astype('float32').values.reshape(-1, 1)\n",
        "\n",
        "# 8. Standardize using the training scaler\n",
        "X_test = scaler.transform(X_test).astype('float32')  # `scaler` must be from training\n",
        "\n",
        "# 9. Create PyTorch Dataset and DataLoader\n",
        "class PlanningGenDataset(Dataset):\n",
        "    def __init__(self, X, y):\n",
        "        self.X = torch.tensor(X, dtype=torch.float32)\n",
        "        self.y = torch.tensor(y, dtype=torch.float32)\n",
        "\n",
        "    def __len__(self):\n",
        "        return len(self.X)\n",
        "\n",
        "    def __getitem__(self, idx):\n",
        "        return self.X[idx], self.y[idx]\n",
        "\n",
        "test_dataset = PlanningGenDataset(X_test, y_test)\n",
        "test_loader = DataLoader(test_dataset, batch_size=32, shuffle=False)\n"
      ]
    },
    {
      "cell_type": "code",
      "execution_count": 119,
      "metadata": {
        "colab": {
          "base_uri": "https://localhost:8080/"
        },
        "id": "LyosZgfoLsxj",
        "outputId": "db18330b-02b0-4a6d-d166-8c10e25b7d78"
      },
      "outputs": [
        {
          "output_type": "stream",
          "name": "stdout",
          "text": [
            "\n",
            "Test Loss: 0.4592 | Test Accuracy: 0.6122\n"
          ]
        }
      ],
      "source": [
        "test_loss, test_acc = evaluate(test_loader)\n",
        "print(f\"\\nTest Loss: {test_loss:.4f} | Test Accuracy: {test_acc:.4f}\")\n"
      ]
    },
    {
      "cell_type": "code",
      "execution_count": 120,
      "metadata": {
        "colab": {
          "base_uri": "https://localhost:8080/"
        },
        "id": "opJIQJ7Qa0kA",
        "outputId": "39da93f6-5a32-476e-9d14-b83b9ff1167d"
      },
      "outputs": [
        {
          "output_type": "stream",
          "name": "stdout",
          "text": [
            "Confidence score for easy basic move problem is 1.0000\n"
          ]
        }
      ],
      "source": [
        "with torch.no_grad():\n",
        "  model.eval()\n",
        "  easy_problem = test_dataset[0][0].unsqueeze(0).to(device)\n",
        "  model = model.to(device)\n",
        "  score = torch.sigmoid(model(easy_problem))\n",
        "  print(f\"Confidence score for easy basic move problem is {score.item():.4f}\")"
      ]
    },
    {
      "cell_type": "code",
      "execution_count": 121,
      "metadata": {
        "colab": {
          "base_uri": "https://localhost:8080/"
        },
        "id": "fOzVM4mMc43S",
        "outputId": "775931dd-b75e-431b-c7c8-b95d46491e5a"
      },
      "outputs": [
        {
          "output_type": "stream",
          "name": "stdout",
          "text": [
            "Confidence score for hard hanoi problem is 0.0153\n"
          ]
        }
      ],
      "source": [
        "with torch.no_grad():\n",
        "  model.eval()\n",
        "  hard_problem = test_dataset[33][0].unsqueeze(0).to(device)\n",
        "  model = model.to(device)\n",
        "  score = torch.sigmoid(model(hard_problem))\n",
        "  print(f\"Confidence score for hard hanoi problem is {score.item():.4f}\")"
      ]
    }
  ],
  "metadata": {
    "accelerator": "GPU",
    "colab": {
      "gpuType": "T4",
      "provenance": []
    },
    "kernelspec": {
      "display_name": "Python 3",
      "name": "python3"
    },
    "language_info": {
      "name": "python"
    }
  },
  "nbformat": 4,
  "nbformat_minor": 0
}